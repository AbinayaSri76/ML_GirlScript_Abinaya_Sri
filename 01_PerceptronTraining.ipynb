{
  "nbformat": 4,
  "nbformat_minor": 0,
  "metadata": {
    "colab": {
      "name": "01_PerceptronTraining.ipynb",
      "provenance": [],
      "authorship_tag": "ABX9TyNy8vXBl5sVRmQAXbWoSVgo",
      "include_colab_link": true
    },
    "kernelspec": {
      "name": "python3",
      "display_name": "Python 3"
    },
    "language_info": {
      "name": "python"
    },
    "accelerator": "GPU"
  },
  "cells": [
    {
      "cell_type": "markdown",
      "metadata": {
        "id": "view-in-github",
        "colab_type": "text"
      },
      "source": [
        "<a href=\"https://colab.research.google.com/github/AbinayaSri76/ML_GirlScript_Abinaya_Sri/blob/main/01_PerceptronTraining.ipynb\" target=\"_parent\"><img src=\"https://colab.research.google.com/assets/colab-badge.svg\" alt=\"Open In Colab\"/></a>"
      ]
    },
    {
      "cell_type": "markdown",
      "metadata": {
        "id": "4Bnv8oMZcZt8"
      },
      "source": [
        "**Data Created** : May 23, 2021\n",
        "\n",
        "Author : [Abinaya Sri](https://github.com/AbinayaSri76)"
      ]
    },
    {
      "cell_type": "markdown",
      "metadata": {
        "id": "61H5zjvjcySe"
      },
      "source": [
        "#Problem Statement\n",
        "\n",
        "Train a model to learn the table of 10\n",
        " \n",
        "Equation : `y = 10*x`"
      ]
    },
    {
      "cell_type": "markdown",
      "metadata": {
        "id": "DAkrPeE4dZGn"
      },
      "source": [
        "## Data Creation\n",
        "\n",
        "Equation  : `y = 10x`\n",
        "\n",
        "Target->\n",
        "\n",
        "```\n",
        "x = [0, 1, 2, 3, 4, 5, ...]\n",
        "\n",
        "y = [0, 10, 20, 30, 40, 50, ...]\n",
        "```"
      ]
    },
    {
      "cell_type": "code",
      "metadata": {
        "id": "746rBaoleaZo",
        "outputId": "e8dd215d-b4bc-490a-d817-9bd4b1f7a166",
        "colab": {
          "base_uri": "https://localhost:8080/"
        }
      },
      "source": [
        "x = [i for i in range(21)] #list comprehension\n",
        "print(x)"
      ],
      "execution_count": 17,
      "outputs": [
        {
          "output_type": "stream",
          "text": [
            "[0, 1, 2, 3, 4, 5, 6, 7, 8, 9, 10, 11, 12, 13, 14, 15, 16, 17, 18, 19, 20]\n"
          ],
          "name": "stdout"
        }
      ]
    },
    {
      "cell_type": "code",
      "metadata": {
        "id": "kSGO5D3SeJab",
        "outputId": "99552cef-b38c-44a8-a23e-ada51db0227a",
        "colab": {
          "base_uri": "https://localhost:8080/"
        }
      },
      "source": [
        "y = [i for i in range(10*20+1) if i%10==0]\n",
        "print(y)"
      ],
      "execution_count": 18,
      "outputs": [
        {
          "output_type": "stream",
          "text": [
            "[0, 10, 20, 30, 40, 50, 60, 70, 80, 90, 100, 110, 120, 130, 140, 150, 160, 170, 180, 190, 200]\n"
          ],
          "name": "stdout"
        }
      ]
    },
    {
      "cell_type": "markdown",
      "metadata": {
        "id": "_XregWnsgVMj"
      },
      "source": [
        "## Approach 1\n",
        "\n",
        "Defining a function for equation `y = 10x`"
      ]
    },
    {
      "cell_type": "code",
      "metadata": {
        "id": "FrcDPdqrgc_D",
        "outputId": "4d134c7d-368b-4de3-b39d-ecf66432fef3",
        "colab": {
          "base_uri": "https://localhost:8080/"
        }
      },
      "source": [
        "def tab10(x):\n",
        "    y = 10*x\n",
        "    return y\n",
        "\n",
        "\n",
        "for value in x:\n",
        "    print(tab10(value))"
      ],
      "execution_count": 19,
      "outputs": [
        {
          "output_type": "stream",
          "text": [
            "0\n",
            "10\n",
            "20\n",
            "30\n",
            "40\n",
            "50\n",
            "60\n",
            "70\n",
            "80\n",
            "90\n",
            "100\n",
            "110\n",
            "120\n",
            "130\n",
            "140\n",
            "150\n",
            "160\n",
            "170\n",
            "180\n",
            "190\n",
            "200\n"
          ],
          "name": "stdout"
        }
      ]
    },
    {
      "cell_type": "markdown",
      "metadata": {
        "id": "BrjfG-CkhYpj"
      },
      "source": [
        "## Approach 2\n",
        "\n",
        "I am super enthusiastic about ML so I'm gonna make a redundant ML model for the table of 10"
      ]
    },
    {
      "cell_type": "markdown",
      "metadata": {
        "id": "JfsTQcrmh40k"
      },
      "source": [
        "You're going to need `xTrain`, `yTrain`, `xText`, and `yText` from the `x` and `y` lists"
      ]
    },
    {
      "cell_type": "code",
      "metadata": {
        "id": "0UybgrkYhHWQ",
        "outputId": "8a8ff0bb-32eb-4c25-9a69-0b3848c97e02",
        "colab": {
          "base_uri": "https://localhost:8080/"
        }
      },
      "source": [
        "print(f'This is x: {x}')\n",
        "print(f'This is y: {y}')"
      ],
      "execution_count": 20,
      "outputs": [
        {
          "output_type": "stream",
          "text": [
            "This is x: [0, 1, 2, 3, 4, 5, 6, 7, 8, 9, 10, 11, 12, 13, 14, 15, 16, 17, 18, 19, 20]\n",
            "This is y: [0, 10, 20, 30, 40, 50, 60, 70, 80, 90, 100, 110, 120, 130, 140, 150, 160, 170, 180, 190, 200]\n"
          ],
          "name": "stdout"
        }
      ]
    },
    {
      "cell_type": "code",
      "metadata": {
        "id": "qki8lGebiV6z",
        "outputId": "80c68a5b-6175-4d2d-933f-aa199508ec8f",
        "colab": {
          "base_uri": "https://localhost:8080/"
        }
      },
      "source": [
        "xTrain = x[:-5] #Training Data\n",
        "yTrain = y[:-5] #Training Labels\n",
        "\n",
        "xTest = x[-5:] #Testing Data\n",
        "yTest = y[-5:] #Testing Labels\n",
        "\n",
        "print(f'''\n",
        "Training Data:\n",
        "\n",
        "xTrain : {xTrain}\n",
        "yTrain : {yTrain}\n",
        "\n",
        "Testing Data:\n",
        "\n",
        "xTest : {xTest}\n",
        "xTest : {yTest}\n",
        "''')"
      ],
      "execution_count": 22,
      "outputs": [
        {
          "output_type": "stream",
          "text": [
            "\n",
            "Training Data:\n",
            "\n",
            "xTrain : [0, 1, 2, 3, 4, 5, 6, 7, 8, 9, 10, 11, 12, 13, 14, 15]\n",
            "yTrain : [0, 10, 20, 30, 40, 50, 60, 70, 80, 90, 100, 110, 120, 130, 140, 150]\n",
            "\n",
            "Testing Data:\n",
            "\n",
            "xTest : [16, 17, 18, 19, 20]\n",
            "xTest : [160, 170, 180, 190, 200]\n",
            "\n"
          ],
          "name": "stdout"
        }
      ]
    },
    {
      "cell_type": "code",
      "metadata": {
        "id": "sFX92hAzkgFM"
      },
      "source": [
        "import tensorflow as tf\n",
        "from tensorflow import keras"
      ],
      "execution_count": 23,
      "outputs": []
    },
    {
      "cell_type": "code",
      "metadata": {
        "id": "xDDFiRPjl3Ho"
      },
      "source": [
        "#perceptron model\n",
        "\n",
        "model = tf.keras.Sequential([\n",
        "                             tf.keras.layers.Dense\n",
        "])"
      ],
      "execution_count": null,
      "outputs": []
    }
  ]
}