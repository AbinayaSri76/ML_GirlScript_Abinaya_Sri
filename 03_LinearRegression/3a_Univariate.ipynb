{
  "nbformat": 4,
  "nbformat_minor": 0,
  "metadata": {
    "colab": {
      "name": "03_LinearRegression.ipynb",
      "provenance": [],
      "authorship_tag": "ABX9TyPg0B44o8/DDCehlGK7yosR",
      "include_colab_link": true
    },
    "kernelspec": {
      "name": "python3",
      "display_name": "Python 3"
    },
    "language_info": {
      "name": "python"
    }
  },
  "cells": [
    {
      "cell_type": "markdown",
      "metadata": {
        "id": "view-in-github",
        "colab_type": "text"
      },
      "source": [
        "<a href=\"https://colab.research.google.com/github/AbinayaSri76/MLnow_2.0/blob/main/03_LinearRegression/3a_Univariate.ipynb\" target=\"_parent\"><img src=\"https://colab.research.google.com/assets/colab-badge.svg\" alt=\"Open In Colab\"/></a>"
      ]
    },
    {
      "cell_type": "markdown",
      "metadata": {
        "id": "XJDzunLN1v9n"
      },
      "source": [
        "Univariate Linear Regression\n",
        "\n",
        "[Link to Download the dataset](https://archive.ics.uci.edu/ml/datasets/Student+Performance)\n",
        "\n",
        "**Data Created** : June 6, 2021\n",
        "\n",
        "Author : [Abinaya Sri](https://github.com/AbinayaSri76)\n",
        "\n",
        "Reach out: [Email](abinaya.sri2020@vitstudent.ac.in) | [Github](https://github.com/AbinayaSri76) | [LinkedIn](https://www.linkedin.com/in/a-abinaya-sri-867064202/)"
      ]
    },
    {
      "cell_type": "code",
      "metadata": {
        "colab": {
          "base_uri": "https://localhost:8080/"
        },
        "id": "RCT_7jf411zQ",
        "outputId": "36189fcc-69b6-47ba-f8bc-67e4586a58db"
      },
      "source": [
        "from google.colab import drive\n",
        "drive.mount('/content/drive')"
      ],
      "execution_count": 1,
      "outputs": [
        {
          "output_type": "stream",
          "text": [
            "Mounted at /content/drive\n"
          ],
          "name": "stdout"
        }
      ]
    },
    {
      "cell_type": "code",
      "metadata": {
        "colab": {
          "base_uri": "https://localhost:8080/"
        },
        "id": "oN1Y0j_R16TS",
        "outputId": "57343091-5baf-45a9-ab1b-d723531416f3"
      },
      "source": [
        "cd '/content/drive/MyDrive/Student'"
      ],
      "execution_count": 2,
      "outputs": [
        {
          "output_type": "stream",
          "text": [
            "/content/drive/MyDrive/Student\n"
          ],
          "name": "stdout"
        }
      ]
    },
    {
      "cell_type": "code",
      "metadata": {
        "colab": {
          "base_uri": "https://localhost:8080/"
        },
        "id": "bZi2ZVHg2BsX",
        "outputId": "1f66175f-d18c-40d8-953d-7fc3491aae87"
      },
      "source": [
        "ls"
      ],
      "execution_count": 3,
      "outputs": [
        {
          "output_type": "stream",
          "text": [
            "cleanedMathData.csv  student-merge.R  student.txt\n",
            "student-mat.csv      student-por.csv\n"
          ],
          "name": "stdout"
        }
      ]
    },
    {
      "cell_type": "code",
      "metadata": {
        "id": "TaIUiSiP2iSB"
      },
      "source": [
        "import os"
      ],
      "execution_count": 4,
      "outputs": []
    },
    {
      "cell_type": "code",
      "metadata": {
        "id": "3OQ-p2Gv2jHl"
      },
      "source": [
        "import pandas as pd #working with csv or excel files\n",
        "import numpy as np #working with numbers/ arrays/ tensors\n",
        "import tensorflow as tf #framework\n",
        "from tensorflow import keras #API / library \n",
        "import os #using os commands between the python language"
      ],
      "execution_count": 5,
      "outputs": []
    },
    {
      "cell_type": "code",
      "metadata": {
        "id": "NwsSgl9g2mV-"
      },
      "source": [
        "mathData = pd.read_csv('student-mat.csv', sep=';') #load the csv file as dataframe"
      ],
      "execution_count": 6,
      "outputs": []
    },
    {
      "cell_type": "code",
      "metadata": {
        "colab": {
          "base_uri": "https://localhost:8080/",
          "height": 377
        },
        "id": "6GtpftO42nfs",
        "outputId": "cb7c3036-0da0-4dd9-a349-1bf163b94601"
      },
      "source": [
        "mathData.head(10) #print the first ten rows of the dataframe"
      ],
      "execution_count": 7,
      "outputs": [
        {
          "output_type": "execute_result",
          "data": {
            "text/html": [
              "<div>\n",
              "<style scoped>\n",
              "    .dataframe tbody tr th:only-of-type {\n",
              "        vertical-align: middle;\n",
              "    }\n",
              "\n",
              "    .dataframe tbody tr th {\n",
              "        vertical-align: top;\n",
              "    }\n",
              "\n",
              "    .dataframe thead th {\n",
              "        text-align: right;\n",
              "    }\n",
              "</style>\n",
              "<table border=\"1\" class=\"dataframe\">\n",
              "  <thead>\n",
              "    <tr style=\"text-align: right;\">\n",
              "      <th></th>\n",
              "      <th>school</th>\n",
              "      <th>sex</th>\n",
              "      <th>age</th>\n",
              "      <th>address</th>\n",
              "      <th>famsize</th>\n",
              "      <th>Pstatus</th>\n",
              "      <th>Medu</th>\n",
              "      <th>Fedu</th>\n",
              "      <th>Mjob</th>\n",
              "      <th>Fjob</th>\n",
              "      <th>reason</th>\n",
              "      <th>guardian</th>\n",
              "      <th>traveltime</th>\n",
              "      <th>studytime</th>\n",
              "      <th>failures</th>\n",
              "      <th>schoolsup</th>\n",
              "      <th>famsup</th>\n",
              "      <th>paid</th>\n",
              "      <th>activities</th>\n",
              "      <th>nursery</th>\n",
              "      <th>higher</th>\n",
              "      <th>internet</th>\n",
              "      <th>romantic</th>\n",
              "      <th>famrel</th>\n",
              "      <th>freetime</th>\n",
              "      <th>goout</th>\n",
              "      <th>Dalc</th>\n",
              "      <th>Walc</th>\n",
              "      <th>health</th>\n",
              "      <th>absences</th>\n",
              "      <th>G1</th>\n",
              "      <th>G2</th>\n",
              "      <th>G3</th>\n",
              "    </tr>\n",
              "  </thead>\n",
              "  <tbody>\n",
              "    <tr>\n",
              "      <th>0</th>\n",
              "      <td>GP</td>\n",
              "      <td>F</td>\n",
              "      <td>18</td>\n",
              "      <td>U</td>\n",
              "      <td>GT3</td>\n",
              "      <td>A</td>\n",
              "      <td>4</td>\n",
              "      <td>4</td>\n",
              "      <td>at_home</td>\n",
              "      <td>teacher</td>\n",
              "      <td>course</td>\n",
              "      <td>mother</td>\n",
              "      <td>2</td>\n",
              "      <td>2</td>\n",
              "      <td>0</td>\n",
              "      <td>yes</td>\n",
              "      <td>no</td>\n",
              "      <td>no</td>\n",
              "      <td>no</td>\n",
              "      <td>yes</td>\n",
              "      <td>yes</td>\n",
              "      <td>no</td>\n",
              "      <td>no</td>\n",
              "      <td>4</td>\n",
              "      <td>3</td>\n",
              "      <td>4</td>\n",
              "      <td>1</td>\n",
              "      <td>1</td>\n",
              "      <td>3</td>\n",
              "      <td>6</td>\n",
              "      <td>5</td>\n",
              "      <td>6</td>\n",
              "      <td>6</td>\n",
              "    </tr>\n",
              "    <tr>\n",
              "      <th>1</th>\n",
              "      <td>GP</td>\n",
              "      <td>F</td>\n",
              "      <td>17</td>\n",
              "      <td>U</td>\n",
              "      <td>GT3</td>\n",
              "      <td>T</td>\n",
              "      <td>1</td>\n",
              "      <td>1</td>\n",
              "      <td>at_home</td>\n",
              "      <td>other</td>\n",
              "      <td>course</td>\n",
              "      <td>father</td>\n",
              "      <td>1</td>\n",
              "      <td>2</td>\n",
              "      <td>0</td>\n",
              "      <td>no</td>\n",
              "      <td>yes</td>\n",
              "      <td>no</td>\n",
              "      <td>no</td>\n",
              "      <td>no</td>\n",
              "      <td>yes</td>\n",
              "      <td>yes</td>\n",
              "      <td>no</td>\n",
              "      <td>5</td>\n",
              "      <td>3</td>\n",
              "      <td>3</td>\n",
              "      <td>1</td>\n",
              "      <td>1</td>\n",
              "      <td>3</td>\n",
              "      <td>4</td>\n",
              "      <td>5</td>\n",
              "      <td>5</td>\n",
              "      <td>6</td>\n",
              "    </tr>\n",
              "    <tr>\n",
              "      <th>2</th>\n",
              "      <td>GP</td>\n",
              "      <td>F</td>\n",
              "      <td>15</td>\n",
              "      <td>U</td>\n",
              "      <td>LE3</td>\n",
              "      <td>T</td>\n",
              "      <td>1</td>\n",
              "      <td>1</td>\n",
              "      <td>at_home</td>\n",
              "      <td>other</td>\n",
              "      <td>other</td>\n",
              "      <td>mother</td>\n",
              "      <td>1</td>\n",
              "      <td>2</td>\n",
              "      <td>3</td>\n",
              "      <td>yes</td>\n",
              "      <td>no</td>\n",
              "      <td>yes</td>\n",
              "      <td>no</td>\n",
              "      <td>yes</td>\n",
              "      <td>yes</td>\n",
              "      <td>yes</td>\n",
              "      <td>no</td>\n",
              "      <td>4</td>\n",
              "      <td>3</td>\n",
              "      <td>2</td>\n",
              "      <td>2</td>\n",
              "      <td>3</td>\n",
              "      <td>3</td>\n",
              "      <td>10</td>\n",
              "      <td>7</td>\n",
              "      <td>8</td>\n",
              "      <td>10</td>\n",
              "    </tr>\n",
              "    <tr>\n",
              "      <th>3</th>\n",
              "      <td>GP</td>\n",
              "      <td>F</td>\n",
              "      <td>15</td>\n",
              "      <td>U</td>\n",
              "      <td>GT3</td>\n",
              "      <td>T</td>\n",
              "      <td>4</td>\n",
              "      <td>2</td>\n",
              "      <td>health</td>\n",
              "      <td>services</td>\n",
              "      <td>home</td>\n",
              "      <td>mother</td>\n",
              "      <td>1</td>\n",
              "      <td>3</td>\n",
              "      <td>0</td>\n",
              "      <td>no</td>\n",
              "      <td>yes</td>\n",
              "      <td>yes</td>\n",
              "      <td>yes</td>\n",
              "      <td>yes</td>\n",
              "      <td>yes</td>\n",
              "      <td>yes</td>\n",
              "      <td>yes</td>\n",
              "      <td>3</td>\n",
              "      <td>2</td>\n",
              "      <td>2</td>\n",
              "      <td>1</td>\n",
              "      <td>1</td>\n",
              "      <td>5</td>\n",
              "      <td>2</td>\n",
              "      <td>15</td>\n",
              "      <td>14</td>\n",
              "      <td>15</td>\n",
              "    </tr>\n",
              "    <tr>\n",
              "      <th>4</th>\n",
              "      <td>GP</td>\n",
              "      <td>F</td>\n",
              "      <td>16</td>\n",
              "      <td>U</td>\n",
              "      <td>GT3</td>\n",
              "      <td>T</td>\n",
              "      <td>3</td>\n",
              "      <td>3</td>\n",
              "      <td>other</td>\n",
              "      <td>other</td>\n",
              "      <td>home</td>\n",
              "      <td>father</td>\n",
              "      <td>1</td>\n",
              "      <td>2</td>\n",
              "      <td>0</td>\n",
              "      <td>no</td>\n",
              "      <td>yes</td>\n",
              "      <td>yes</td>\n",
              "      <td>no</td>\n",
              "      <td>yes</td>\n",
              "      <td>yes</td>\n",
              "      <td>no</td>\n",
              "      <td>no</td>\n",
              "      <td>4</td>\n",
              "      <td>3</td>\n",
              "      <td>2</td>\n",
              "      <td>1</td>\n",
              "      <td>2</td>\n",
              "      <td>5</td>\n",
              "      <td>4</td>\n",
              "      <td>6</td>\n",
              "      <td>10</td>\n",
              "      <td>10</td>\n",
              "    </tr>\n",
              "    <tr>\n",
              "      <th>5</th>\n",
              "      <td>GP</td>\n",
              "      <td>M</td>\n",
              "      <td>16</td>\n",
              "      <td>U</td>\n",
              "      <td>LE3</td>\n",
              "      <td>T</td>\n",
              "      <td>4</td>\n",
              "      <td>3</td>\n",
              "      <td>services</td>\n",
              "      <td>other</td>\n",
              "      <td>reputation</td>\n",
              "      <td>mother</td>\n",
              "      <td>1</td>\n",
              "      <td>2</td>\n",
              "      <td>0</td>\n",
              "      <td>no</td>\n",
              "      <td>yes</td>\n",
              "      <td>yes</td>\n",
              "      <td>yes</td>\n",
              "      <td>yes</td>\n",
              "      <td>yes</td>\n",
              "      <td>yes</td>\n",
              "      <td>no</td>\n",
              "      <td>5</td>\n",
              "      <td>4</td>\n",
              "      <td>2</td>\n",
              "      <td>1</td>\n",
              "      <td>2</td>\n",
              "      <td>5</td>\n",
              "      <td>10</td>\n",
              "      <td>15</td>\n",
              "      <td>15</td>\n",
              "      <td>15</td>\n",
              "    </tr>\n",
              "    <tr>\n",
              "      <th>6</th>\n",
              "      <td>GP</td>\n",
              "      <td>M</td>\n",
              "      <td>16</td>\n",
              "      <td>U</td>\n",
              "      <td>LE3</td>\n",
              "      <td>T</td>\n",
              "      <td>2</td>\n",
              "      <td>2</td>\n",
              "      <td>other</td>\n",
              "      <td>other</td>\n",
              "      <td>home</td>\n",
              "      <td>mother</td>\n",
              "      <td>1</td>\n",
              "      <td>2</td>\n",
              "      <td>0</td>\n",
              "      <td>no</td>\n",
              "      <td>no</td>\n",
              "      <td>no</td>\n",
              "      <td>no</td>\n",
              "      <td>yes</td>\n",
              "      <td>yes</td>\n",
              "      <td>yes</td>\n",
              "      <td>no</td>\n",
              "      <td>4</td>\n",
              "      <td>4</td>\n",
              "      <td>4</td>\n",
              "      <td>1</td>\n",
              "      <td>1</td>\n",
              "      <td>3</td>\n",
              "      <td>0</td>\n",
              "      <td>12</td>\n",
              "      <td>12</td>\n",
              "      <td>11</td>\n",
              "    </tr>\n",
              "    <tr>\n",
              "      <th>7</th>\n",
              "      <td>GP</td>\n",
              "      <td>F</td>\n",
              "      <td>17</td>\n",
              "      <td>U</td>\n",
              "      <td>GT3</td>\n",
              "      <td>A</td>\n",
              "      <td>4</td>\n",
              "      <td>4</td>\n",
              "      <td>other</td>\n",
              "      <td>teacher</td>\n",
              "      <td>home</td>\n",
              "      <td>mother</td>\n",
              "      <td>2</td>\n",
              "      <td>2</td>\n",
              "      <td>0</td>\n",
              "      <td>yes</td>\n",
              "      <td>yes</td>\n",
              "      <td>no</td>\n",
              "      <td>no</td>\n",
              "      <td>yes</td>\n",
              "      <td>yes</td>\n",
              "      <td>no</td>\n",
              "      <td>no</td>\n",
              "      <td>4</td>\n",
              "      <td>1</td>\n",
              "      <td>4</td>\n",
              "      <td>1</td>\n",
              "      <td>1</td>\n",
              "      <td>1</td>\n",
              "      <td>6</td>\n",
              "      <td>6</td>\n",
              "      <td>5</td>\n",
              "      <td>6</td>\n",
              "    </tr>\n",
              "    <tr>\n",
              "      <th>8</th>\n",
              "      <td>GP</td>\n",
              "      <td>M</td>\n",
              "      <td>15</td>\n",
              "      <td>U</td>\n",
              "      <td>LE3</td>\n",
              "      <td>A</td>\n",
              "      <td>3</td>\n",
              "      <td>2</td>\n",
              "      <td>services</td>\n",
              "      <td>other</td>\n",
              "      <td>home</td>\n",
              "      <td>mother</td>\n",
              "      <td>1</td>\n",
              "      <td>2</td>\n",
              "      <td>0</td>\n",
              "      <td>no</td>\n",
              "      <td>yes</td>\n",
              "      <td>yes</td>\n",
              "      <td>no</td>\n",
              "      <td>yes</td>\n",
              "      <td>yes</td>\n",
              "      <td>yes</td>\n",
              "      <td>no</td>\n",
              "      <td>4</td>\n",
              "      <td>2</td>\n",
              "      <td>2</td>\n",
              "      <td>1</td>\n",
              "      <td>1</td>\n",
              "      <td>1</td>\n",
              "      <td>0</td>\n",
              "      <td>16</td>\n",
              "      <td>18</td>\n",
              "      <td>19</td>\n",
              "    </tr>\n",
              "    <tr>\n",
              "      <th>9</th>\n",
              "      <td>GP</td>\n",
              "      <td>M</td>\n",
              "      <td>15</td>\n",
              "      <td>U</td>\n",
              "      <td>GT3</td>\n",
              "      <td>T</td>\n",
              "      <td>3</td>\n",
              "      <td>4</td>\n",
              "      <td>other</td>\n",
              "      <td>other</td>\n",
              "      <td>home</td>\n",
              "      <td>mother</td>\n",
              "      <td>1</td>\n",
              "      <td>2</td>\n",
              "      <td>0</td>\n",
              "      <td>no</td>\n",
              "      <td>yes</td>\n",
              "      <td>yes</td>\n",
              "      <td>yes</td>\n",
              "      <td>yes</td>\n",
              "      <td>yes</td>\n",
              "      <td>yes</td>\n",
              "      <td>no</td>\n",
              "      <td>5</td>\n",
              "      <td>5</td>\n",
              "      <td>1</td>\n",
              "      <td>1</td>\n",
              "      <td>1</td>\n",
              "      <td>5</td>\n",
              "      <td>0</td>\n",
              "      <td>14</td>\n",
              "      <td>15</td>\n",
              "      <td>15</td>\n",
              "    </tr>\n",
              "  </tbody>\n",
              "</table>\n",
              "</div>"
            ],
            "text/plain": [
              "  school sex  age address famsize Pstatus  ...  Walc  health absences  G1  G2  G3\n",
              "0     GP   F   18       U     GT3       A  ...     1       3        6   5   6   6\n",
              "1     GP   F   17       U     GT3       T  ...     1       3        4   5   5   6\n",
              "2     GP   F   15       U     LE3       T  ...     3       3       10   7   8  10\n",
              "3     GP   F   15       U     GT3       T  ...     1       5        2  15  14  15\n",
              "4     GP   F   16       U     GT3       T  ...     2       5        4   6  10  10\n",
              "5     GP   M   16       U     LE3       T  ...     2       5       10  15  15  15\n",
              "6     GP   M   16       U     LE3       T  ...     1       3        0  12  12  11\n",
              "7     GP   F   17       U     GT3       A  ...     1       1        6   6   5   6\n",
              "8     GP   M   15       U     LE3       A  ...     1       1        0  16  18  19\n",
              "9     GP   M   15       U     GT3       T  ...     1       5        0  14  15  15\n",
              "\n",
              "[10 rows x 33 columns]"
            ]
          },
          "metadata": {
            "tags": []
          },
          "execution_count": 7
        }
      ]
    },
    {
      "cell_type": "markdown",
      "metadata": {
        "id": "kkGXclkK2rAm"
      },
      "source": [
        "We are just going to consider the columns G1 and G3 for univariate linear regression\n",
        "\n",
        "$G3_i = G1_i  \\cdot \\theta_1 + \\theta_0$"
      ]
    },
    {
      "cell_type": "code",
      "metadata": {
        "colab": {
          "base_uri": "https://localhost:8080/",
          "height": 203
        },
        "id": "j4g8Bisk2sAy",
        "outputId": "e6309342-91d3-4f9a-c58e-303873128980"
      },
      "source": [
        "uniMathData = mathData[['G1', 'G3']]\n",
        "uniMathData.head(5)"
      ],
      "execution_count": 8,
      "outputs": [
        {
          "output_type": "execute_result",
          "data": {
            "text/html": [
              "<div>\n",
              "<style scoped>\n",
              "    .dataframe tbody tr th:only-of-type {\n",
              "        vertical-align: middle;\n",
              "    }\n",
              "\n",
              "    .dataframe tbody tr th {\n",
              "        vertical-align: top;\n",
              "    }\n",
              "\n",
              "    .dataframe thead th {\n",
              "        text-align: right;\n",
              "    }\n",
              "</style>\n",
              "<table border=\"1\" class=\"dataframe\">\n",
              "  <thead>\n",
              "    <tr style=\"text-align: right;\">\n",
              "      <th></th>\n",
              "      <th>G1</th>\n",
              "      <th>G3</th>\n",
              "    </tr>\n",
              "  </thead>\n",
              "  <tbody>\n",
              "    <tr>\n",
              "      <th>0</th>\n",
              "      <td>5</td>\n",
              "      <td>6</td>\n",
              "    </tr>\n",
              "    <tr>\n",
              "      <th>1</th>\n",
              "      <td>5</td>\n",
              "      <td>6</td>\n",
              "    </tr>\n",
              "    <tr>\n",
              "      <th>2</th>\n",
              "      <td>7</td>\n",
              "      <td>10</td>\n",
              "    </tr>\n",
              "    <tr>\n",
              "      <th>3</th>\n",
              "      <td>15</td>\n",
              "      <td>15</td>\n",
              "    </tr>\n",
              "    <tr>\n",
              "      <th>4</th>\n",
              "      <td>6</td>\n",
              "      <td>10</td>\n",
              "    </tr>\n",
              "  </tbody>\n",
              "</table>\n",
              "</div>"
            ],
            "text/plain": [
              "   G1  G3\n",
              "0   5   6\n",
              "1   5   6\n",
              "2   7  10\n",
              "3  15  15\n",
              "4   6  10"
            ]
          },
          "metadata": {
            "tags": []
          },
          "execution_count": 8
        }
      ]
    },
    {
      "cell_type": "code",
      "metadata": {
        "id": "hSSDweU82uZj"
      },
      "source": [
        "uniMathData.to_csv('univariate_MathData_2.csv')"
      ],
      "execution_count": 9,
      "outputs": []
    },
    {
      "cell_type": "code",
      "metadata": {
        "colab": {
          "base_uri": "https://localhost:8080/"
        },
        "id": "CHYgnMVY2wPT",
        "outputId": "42a0efea-55bd-441c-ddb1-a1d49749234f"
      },
      "source": [
        "ls"
      ],
      "execution_count": 10,
      "outputs": [
        {
          "output_type": "stream",
          "text": [
            "cleanedMathData.csv  student-merge.R  student.txt\n",
            "student-mat.csv      student-por.csv  univariate_MathData_2.csv\n"
          ],
          "name": "stdout"
        }
      ]
    },
    {
      "cell_type": "markdown",
      "metadata": {
        "id": "nYc4VlFn2z4_"
      },
      "source": [
        "##Data visualization"
      ]
    },
    {
      "cell_type": "code",
      "metadata": {
        "colab": {
          "base_uri": "https://localhost:8080/",
          "height": 157
        },
        "id": "2XcvSyM22xdu",
        "outputId": "5046abd5-9087-48c9-951d-77870f575d5f"
      },
      "source": [
        "import seaborn as sns\n",
        "sns.palplot(sns.color_palette('PuOr')) #Purple to Orange colors\n",
        "pal = sns.color_palette('PuOr', 6) #print 6 color shades from Purple to Orange\n",
        "pal.as_hex() #set hex code values for colors\n",
        "\n",
        "import matplotlib.pyplot as plt\n",
        "plt.style.use(['seaborn'])\n",
        "sns_colors = ['#c6690c', '#664697'] #orange Purple hex codes\n",
        "sns.set_palette(sns_colors) #set the palette as sns_colors \n",
        "sns.palplot(sns.color_palette(sns_colors)) #plot the color codes"
      ],
      "execution_count": 11,
      "outputs": [
        {
          "output_type": "display_data",
          "data": {
            "image/png": "[encoded data removed]",
            "text/plain": [
              "<Figure size 432x72 with 1 Axes>"
            ]
          },
          "metadata": {
            "tags": [],
            "needs_background": "light"
          }
        },
        {
          "output_type": "display_data",
          "data": {
            "image/png": "[encoded data removed]",
            "text/plain": [
              "<Figure size 144x72 with 1 Axes>"
            ]
          },
          "metadata": {
            "tags": []
          }
        }
      ]
    },
    {
      "cell_type": "code",
      "metadata": {
        "colab": {
          "base_uri": "https://localhost:8080/"
        },
        "id": "g3ciHNno23yo",
        "outputId": "71eef633-bba2-44a6-bc9d-28b48130172c"
      },
      "source": [
        "uniMathData.columns #columns in the dataframe"
      ],
      "execution_count": 12,
      "outputs": [
        {
          "output_type": "execute_result",
          "data": {
            "text/plain": [
              "Index(['G1', 'G3'], dtype='object')"
            ]
          },
          "metadata": {
            "tags": []
          },
          "execution_count": 12
        }
      ]
    },
    {
      "cell_type": "code",
      "metadata": {
        "colab": {
          "base_uri": "https://localhost:8080/",
          "height": 391
        },
        "id": "SKjlRSZs25_M",
        "outputId": "190f1132-81fa-4f2e-8d15-bd6ec7770df1"
      },
      "source": [
        "#pairplot for all the values\n",
        "\n",
        "sns.pairplot(uniMathData,\n",
        "             x_vars = ['G1', 'G3'],\n",
        "             y_vars =  ['G1', 'G3'],\n",
        "       diag_kind='kde'\n",
        "             )"
      ],
      "execution_count": 13,
      "outputs": [
        {
          "output_type": "execute_result",
          "data": {
            "text/plain": [
              "<seaborn.axisgrid.PairGrid at 0x7f85ddd5f810>"
            ]
          },
          "metadata": {
            "tags": []
          },
          "execution_count": 13
        },
        {
          "output_type": "display_data",
          "data": {
            "image/png": "[encoded data removed]",
            "text/plain": [
              "<Figure size 360x360 with 6 Axes>"
            ]
          },
          "metadata": {
            "tags": []
          }
        }
      ]
    },
    {
      "cell_type": "markdown",
      "metadata": {
        "id": "G32cleOo28_W"
      },
      "source": [
        "##Data Splits"
      ]
    },
    {
      "cell_type": "code",
      "metadata": {
        "colab": {
          "base_uri": "https://localhost:8080/"
        },
        "id": "9gQKUNsG2-r_",
        "outputId": "8b1e8cf5-5eb4-4d13-a430-c4e101faaf2c"
      },
      "source": [
        "#80-20 train-test percent split\n",
        "\n",
        "trainDataset = uniMathData.sample(frac=0.8, random_state=0) \n",
        "testDataset = uniMathData.drop(trainDataset.index)\n",
        "\n",
        "print(trainDataset.head())\n",
        "print(testDataset.head())"
      ],
      "execution_count": 14,
      "outputs": [
        {
          "output_type": "stream",
          "text": [
            "     G1  G3\n",
            "329  14  14\n",
            "318  11  10\n",
            "317   9   9\n",
            "65   16  15\n",
            "59   15  16\n",
            "    G1  G3\n",
            "9   14  15\n",
            "25   6   8\n",
            "28  11  11\n",
            "31  17  17\n",
            "32  17  16\n"
          ],
          "name": "stdout"
        }
      ]
    },
    {
      "cell_type": "code",
      "metadata": {
        "colab": {
          "base_uri": "https://localhost:8080/"
        },
        "id": "LDJasyMc3A4J",
        "outputId": "5f64c9bb-b4d6-4748-bfc0-2d9552c0d389"
      },
      "source": [
        "print(trainDataset.shape)\n",
        "print(testDataset.shape)"
      ],
      "execution_count": 15,
      "outputs": [
        {
          "output_type": "stream",
          "text": [
            "(316, 2)\n",
            "(79, 2)\n"
          ],
          "name": "stdout"
        }
      ]
    },
    {
      "cell_type": "code",
      "metadata": {
        "colab": {
          "base_uri": "https://localhost:8080/"
        },
        "id": "H6HEh_TM3C6I",
        "outputId": "99a0d07c-b099-46a2-e50f-d36b4213c289"
      },
      "source": [
        "#copy the trainDataset dataframe for getting the features\n",
        "\n",
        "trainFeatures = trainDataset.copy()\n",
        "testFeatures = testDataset.copy()\n",
        "\n",
        "print(trainFeatures.head())\n",
        "print(testFeatures.head())"
      ],
      "execution_count": 16,
      "outputs": [
        {
          "output_type": "stream",
          "text": [
            "     G1  G3\n",
            "329  14  14\n",
            "318  11  10\n",
            "317   9   9\n",
            "65   16  15\n",
            "59   15  16\n",
            "    G1  G3\n",
            "9   14  15\n",
            "25   6   8\n",
            "28  11  11\n",
            "31  17  17\n",
            "32  17  16\n"
          ],
          "name": "stdout"
        }
      ]
    },
    {
      "cell_type": "code",
      "metadata": {
        "colab": {
          "base_uri": "https://localhost:8080/"
        },
        "id": "9aUkJZoj3Fmk",
        "outputId": "38a25ed1-35a1-4aec-9929-19258dd0e74f"
      },
      "source": [
        "#removing the G3 column and saving it into the labels variable\n",
        "\n",
        "trainLabels = trainFeatures.pop('G3')\n",
        "testLabels = testFeatures.pop('G3')\n",
        "\n",
        "print(trainLabels.head())\n",
        "print(testLabels.head())"
      ],
      "execution_count": 17,
      "outputs": [
        {
          "output_type": "stream",
          "text": [
            "329    14\n",
            "318    10\n",
            "317     9\n",
            "65     15\n",
            "59     16\n",
            "Name: G3, dtype: int64\n",
            "9     15\n",
            "25     8\n",
            "28    11\n",
            "31    17\n",
            "32    16\n",
            "Name: G3, dtype: int64\n"
          ],
          "name": "stdout"
        }
      ]
    },
    {
      "cell_type": "code",
      "metadata": {
        "colab": {
          "base_uri": "https://localhost:8080/"
        },
        "id": "gnBHWOQk3Gw-",
        "outputId": "f97a6e8c-8cf4-4628-be5e-25bb6ba34fca"
      },
      "source": [
        "print(trainFeatures.head())\n",
        "print(testFeatures.head())"
      ],
      "execution_count": 18,
      "outputs": [
        {
          "output_type": "stream",
          "text": [
            "     G1\n",
            "329  14\n",
            "318  11\n",
            "317   9\n",
            "65   16\n",
            "59   15\n",
            "    G1\n",
            "9   14\n",
            "25   6\n",
            "28  11\n",
            "31  17\n",
            "32  17\n"
          ],
          "name": "stdout"
        }
      ]
    },
    {
      "cell_type": "code",
      "metadata": {
        "id": "dODfht7a3JQB"
      },
      "source": [
        "# univariate -> num(features) = 1\n",
        "# multvariate -> num(features) > 1 = 11\n",
        "\n",
        "\n",
        "model = tf.keras.Sequential([\n",
        "                             tf.keras.layers.Dense(1)\n",
        "\n",
        "])"
      ],
      "execution_count": 19,
      "outputs": []
    },
    {
      "cell_type": "code",
      "metadata": {
        "id": "jltfCn5f3Lsp"
      },
      "source": [
        "model.compile(\n",
        "    loss = 'mean_absolute_error', #minimizing the MAE loss\n",
        "    optimizer = tf.keras.optimizers.Adam(0.001), #learning rate specified as 0.001\n",
        "    # optimizer = 'adam', #takes the default learning rate\n",
        "    metrics = ['mae', 'mse'] #meanSquare and meanAbsolute error metrics\n",
        ")"
      ],
      "execution_count": 20,
      "outputs": []
    },
    {
      "cell_type": "code",
      "metadata": {
        "colab": {
          "base_uri": "https://localhost:8080/"
        },
        "id": "uOpOtUXF3OFr",
        "outputId": "ffea95f6-1d55-4491-a2b2-a09b2cc6ce50"
      },
      "source": [
        "numEpochs = 300\n",
        "history = model.fit(x = trainFeatures, y = trainLabels, validation_data = (testFeatures, testLabels), epochs = numEpochs)"
      ],
      "execution_count": 21,
      "outputs": [
        {
          "output_type": "stream",
          "text": [
            "Epoch 1/300\n",
            "10/10 [==============================] - 1s 17ms/step - loss: 2.0341 - mae: 2.0341 - mse: 8.3985 - val_loss: 1.6391 - val_mae: 1.6391 - val_mse: 6.1016\n",
            "Epoch 2/300\n",
            "10/10 [==============================] - 0s 3ms/step - loss: 1.9981 - mae: 1.9981 - mse: 8.3081 - val_loss: 1.6182 - val_mae: 1.6182 - val_mse: 6.0361\n",
            "Epoch 3/300\n",
            "10/10 [==============================] - 0s 3ms/step - loss: 1.9717 - mae: 1.9717 - mse: 8.2349 - val_loss: 1.6122 - val_mae: 1.6122 - val_mse: 6.0000\n",
            "Epoch 4/300\n",
            "10/10 [==============================] - 0s 3ms/step - loss: 1.9523 - mae: 1.9523 - mse: 8.1907 - val_loss: 1.6092 - val_mae: 1.6092 - val_mse: 5.9791\n",
            "Epoch 5/300\n",
            "10/10 [==============================] - 0s 3ms/step - loss: 1.9334 - mae: 1.9334 - mse: 8.1770 - val_loss: 1.6060 - val_mae: 1.6060 - val_mse: 5.9757\n",
            "Epoch 6/300\n",
            "10/10 [==============================] - 0s 3ms/step - loss: 1.9114 - mae: 1.9114 - mse: 8.1679 - val_loss: 1.6029 - val_mae: 1.6029 - val_mse: 5.9909\n",
            "Epoch 7/300\n",
            "10/10 [==============================] - 0s 3ms/step - loss: 1.8919 - mae: 1.8919 - mse: 8.1888 - val_loss: 1.5996 - val_mae: 1.5996 - val_mse: 6.0273\n",
            "Epoch 8/300\n",
            "10/10 [==============================] - 0s 3ms/step - loss: 1.8693 - mae: 1.8693 - mse: 8.2192 - val_loss: 1.5965 - val_mae: 1.5965 - val_mse: 6.0812\n",
            "Epoch 9/300\n",
            "10/10 [==============================] - 0s 3ms/step - loss: 1.8472 - mae: 1.8472 - mse: 8.2382 - val_loss: 1.5944 - val_mae: 1.5944 - val_mse: 6.1510\n",
            "Epoch 10/300\n",
            "10/10 [==============================] - 0s 3ms/step - loss: 1.8389 - mae: 1.8389 - mse: 8.3144 - val_loss: 1.6073 - val_mae: 1.6073 - val_mse: 6.2107\n",
            "Epoch 11/300\n",
            "10/10 [==============================] - 0s 3ms/step - loss: 1.8386 - mae: 1.8386 - mse: 8.3212 - val_loss: 1.5962 - val_mae: 1.5962 - val_mse: 6.1721\n",
            "Epoch 12/300\n",
            "10/10 [==============================] - 0s 3ms/step - loss: 1.8365 - mae: 1.8365 - mse: 8.2929 - val_loss: 1.5953 - val_mae: 1.5953 - val_mse: 6.1660\n",
            "Epoch 13/300\n",
            "10/10 [==============================] - 0s 4ms/step - loss: 1.8355 - mae: 1.8355 - mse: 8.2982 - val_loss: 1.5978 - val_mae: 1.5978 - val_mse: 6.1791\n",
            "Epoch 14/300\n",
            "10/10 [==============================] - 0s 4ms/step - loss: 1.8359 - mae: 1.8359 - mse: 8.3059 - val_loss: 1.5979 - val_mae: 1.5979 - val_mse: 6.1793\n",
            "Epoch 15/300\n",
            "10/10 [==============================] - 0s 3ms/step - loss: 1.8358 - mae: 1.8358 - mse: 8.2984 - val_loss: 1.5966 - val_mae: 1.5966 - val_mse: 6.1731\n",
            "Epoch 16/300\n",
            "10/10 [==============================] - 0s 3ms/step - loss: 1.8357 - mae: 1.8357 - mse: 8.3025 - val_loss: 1.5978 - val_mae: 1.5978 - val_mse: 6.1781\n",
            "Epoch 17/300\n",
            "10/10 [==============================] - 0s 3ms/step - loss: 1.8355 - mae: 1.8355 - mse: 8.2989 - val_loss: 1.5964 - val_mae: 1.5964 - val_mse: 6.1717\n",
            "Epoch 18/300\n",
            "10/10 [==============================] - 0s 3ms/step - loss: 1.8355 - mae: 1.8355 - mse: 8.3008 - val_loss: 1.5969 - val_mae: 1.5969 - val_mse: 6.1736\n",
            "Epoch 19/300\n",
            "10/10 [==============================] - 0s 3ms/step - loss: 1.8358 - mae: 1.8358 - mse: 8.2968 - val_loss: 1.5956 - val_mae: 1.5956 - val_mse: 6.1666\n",
            "Epoch 20/300\n",
            "10/10 [==============================] - 0s 3ms/step - loss: 1.8355 - mae: 1.8355 - mse: 8.3003 - val_loss: 1.5979 - val_mae: 1.5979 - val_mse: 6.1770\n",
            "Epoch 21/300\n",
            "10/10 [==============================] - 0s 3ms/step - loss: 1.8353 - mae: 1.8353 - mse: 8.2942 - val_loss: 1.5956 - val_mae: 1.5956 - val_mse: 6.1656\n",
            "Epoch 22/300\n",
            "10/10 [==============================] - 0s 3ms/step - loss: 1.8351 - mae: 1.8351 - mse: 8.2944 - val_loss: 1.5974 - val_mae: 1.5974 - val_mse: 6.1742\n",
            "Epoch 23/300\n",
            "10/10 [==============================] - 0s 4ms/step - loss: 1.8352 - mae: 1.8352 - mse: 8.2988 - val_loss: 1.5977 - val_mae: 1.5977 - val_mse: 6.1750\n",
            "Epoch 24/300\n",
            "10/10 [==============================] - 0s 3ms/step - loss: 1.8352 - mae: 1.8352 - mse: 8.2966 - val_loss: 1.5964 - val_mae: 1.5964 - val_mse: 6.1691\n",
            "Epoch 25/300\n",
            "10/10 [==============================] - 0s 3ms/step - loss: 1.8349 - mae: 1.8349 - mse: 8.2972 - val_loss: 1.5971 - val_mae: 1.5971 - val_mse: 6.1715\n",
            "Epoch 26/300\n",
            "10/10 [==============================] - 0s 3ms/step - loss: 1.8353 - mae: 1.8353 - mse: 8.2939 - val_loss: 1.5962 - val_mae: 1.5962 - val_mse: 6.1674\n",
            "Epoch 27/300\n",
            "10/10 [==============================] - 0s 4ms/step - loss: 1.8348 - mae: 1.8348 - mse: 8.2975 - val_loss: 1.5969 - val_mae: 1.5969 - val_mse: 6.1700\n",
            "Epoch 28/300\n",
            "10/10 [==============================] - 0s 3ms/step - loss: 1.8353 - mae: 1.8353 - mse: 8.2928 - val_loss: 1.5951 - val_mae: 1.5951 - val_mse: 6.1595\n",
            "Epoch 29/300\n",
            "10/10 [==============================] - 0s 3ms/step - loss: 1.8343 - mae: 1.8343 - mse: 8.2933 - val_loss: 1.5978 - val_mae: 1.5978 - val_mse: 6.1728\n",
            "Epoch 30/300\n",
            "10/10 [==============================] - 0s 3ms/step - loss: 1.8352 - mae: 1.8352 - mse: 8.2927 - val_loss: 1.5956 - val_mae: 1.5956 - val_mse: 6.1627\n",
            "Epoch 31/300\n",
            "10/10 [==============================] - 0s 4ms/step - loss: 1.8343 - mae: 1.8343 - mse: 8.2901 - val_loss: 1.5973 - val_mae: 1.5973 - val_mse: 6.1698\n",
            "Epoch 32/300\n",
            "10/10 [==============================] - 0s 3ms/step - loss: 1.8354 - mae: 1.8354 - mse: 8.3010 - val_loss: 1.5954 - val_mae: 1.5954 - val_mse: 6.1611\n",
            "Epoch 33/300\n",
            "10/10 [==============================] - 0s 3ms/step - loss: 1.8346 - mae: 1.8346 - mse: 8.2873 - val_loss: 1.5959 - val_mae: 1.5959 - val_mse: 6.1635\n",
            "Epoch 34/300\n",
            "10/10 [==============================] - 0s 3ms/step - loss: 1.8342 - mae: 1.8342 - mse: 8.2940 - val_loss: 1.5963 - val_mae: 1.5963 - val_mse: 6.1646\n",
            "Epoch 35/300\n",
            "10/10 [==============================] - 0s 3ms/step - loss: 1.8341 - mae: 1.8341 - mse: 8.2895 - val_loss: 1.5961 - val_mae: 1.5961 - val_mse: 6.1638\n",
            "Epoch 36/300\n",
            "10/10 [==============================] - 0s 3ms/step - loss: 1.8342 - mae: 1.8342 - mse: 8.2889 - val_loss: 1.5968 - val_mae: 1.5968 - val_mse: 6.1661\n",
            "Epoch 37/300\n",
            "10/10 [==============================] - 0s 3ms/step - loss: 1.8344 - mae: 1.8344 - mse: 8.2912 - val_loss: 1.5948 - val_mae: 1.5948 - val_mse: 6.1520\n",
            "Epoch 38/300\n",
            "10/10 [==============================] - 0s 3ms/step - loss: 1.8345 - mae: 1.8345 - mse: 8.2864 - val_loss: 1.5976 - val_mae: 1.5976 - val_mse: 6.1680\n",
            "Epoch 39/300\n",
            "10/10 [==============================] - 0s 3ms/step - loss: 1.8339 - mae: 1.8339 - mse: 8.2872 - val_loss: 1.5949 - val_mae: 1.5949 - val_mse: 6.1542\n",
            "Epoch 40/300\n",
            "10/10 [==============================] - 0s 4ms/step - loss: 1.8343 - mae: 1.8343 - mse: 8.2901 - val_loss: 1.5958 - val_mae: 1.5958 - val_mse: 6.1605\n",
            "Epoch 41/300\n",
            "10/10 [==============================] - 0s 3ms/step - loss: 1.8340 - mae: 1.8340 - mse: 8.2851 - val_loss: 1.5953 - val_mae: 1.5953 - val_mse: 6.1581\n",
            "Epoch 42/300\n",
            "10/10 [==============================] - 0s 4ms/step - loss: 1.8338 - mae: 1.8338 - mse: 8.2905 - val_loss: 1.5952 - val_mae: 1.5952 - val_mse: 6.1568\n",
            "Epoch 43/300\n",
            "10/10 [==============================] - 0s 3ms/step - loss: 1.8336 - mae: 1.8336 - mse: 8.2857 - val_loss: 1.5962 - val_mae: 1.5962 - val_mse: 6.1616\n",
            "Epoch 44/300\n",
            "10/10 [==============================] - 0s 3ms/step - loss: 1.8335 - mae: 1.8335 - mse: 8.2888 - val_loss: 1.5949 - val_mae: 1.5949 - val_mse: 6.1530\n",
            "Epoch 45/300\n",
            "10/10 [==============================] - 0s 3ms/step - loss: 1.8336 - mae: 1.8336 - mse: 8.2878 - val_loss: 1.5951 - val_mae: 1.5951 - val_mse: 6.1557\n",
            "Epoch 46/300\n",
            "10/10 [==============================] - 0s 4ms/step - loss: 1.8335 - mae: 1.8335 - mse: 8.2885 - val_loss: 1.5948 - val_mae: 1.5948 - val_mse: 6.1500\n",
            "Epoch 47/300\n",
            "10/10 [==============================] - 0s 4ms/step - loss: 1.8346 - mae: 1.8346 - mse: 8.2869 - val_loss: 1.5959 - val_mae: 1.5959 - val_mse: 6.1590\n",
            "Epoch 48/300\n",
            "10/10 [==============================] - 0s 4ms/step - loss: 1.8333 - mae: 1.8333 - mse: 8.2826 - val_loss: 1.5960 - val_mae: 1.5960 - val_mse: 6.1590\n",
            "Epoch 49/300\n",
            "10/10 [==============================] - 0s 3ms/step - loss: 1.8332 - mae: 1.8332 - mse: 8.2839 - val_loss: 1.5949 - val_mae: 1.5949 - val_mse: 6.1535\n",
            "Epoch 50/300\n",
            "10/10 [==============================] - 0s 3ms/step - loss: 1.8330 - mae: 1.8330 - mse: 8.2852 - val_loss: 1.5950 - val_mae: 1.5950 - val_mse: 6.1544\n",
            "Epoch 51/300\n",
            "10/10 [==============================] - 0s 3ms/step - loss: 1.8331 - mae: 1.8331 - mse: 8.2860 - val_loss: 1.5951 - val_mae: 1.5951 - val_mse: 6.1548\n",
            "Epoch 52/300\n",
            "10/10 [==============================] - 0s 3ms/step - loss: 1.8331 - mae: 1.8331 - mse: 8.2821 - val_loss: 1.5959 - val_mae: 1.5959 - val_mse: 6.1575\n",
            "Epoch 53/300\n",
            "10/10 [==============================] - 0s 3ms/step - loss: 1.8328 - mae: 1.8328 - mse: 8.2829 - val_loss: 1.5956 - val_mae: 1.5956 - val_mse: 6.1564\n",
            "Epoch 54/300\n",
            "10/10 [==============================] - 0s 3ms/step - loss: 1.8328 - mae: 1.8328 - mse: 8.2833 - val_loss: 1.5954 - val_mae: 1.5954 - val_mse: 6.1554\n",
            "Epoch 55/300\n",
            "10/10 [==============================] - 0s 3ms/step - loss: 1.8330 - mae: 1.8330 - mse: 8.2840 - val_loss: 1.5957 - val_mae: 1.5957 - val_mse: 6.1562\n",
            "Epoch 56/300\n",
            "10/10 [==============================] - 0s 3ms/step - loss: 1.8331 - mae: 1.8331 - mse: 8.2817 - val_loss: 1.5952 - val_mae: 1.5952 - val_mse: 6.1543\n",
            "Epoch 57/300\n",
            "10/10 [==============================] - 0s 3ms/step - loss: 1.8329 - mae: 1.8329 - mse: 8.2845 - val_loss: 1.5950 - val_mae: 1.5950 - val_mse: 6.1532\n",
            "Epoch 58/300\n",
            "10/10 [==============================] - 0s 4ms/step - loss: 1.8328 - mae: 1.8328 - mse: 8.2830 - val_loss: 1.5953 - val_mae: 1.5953 - val_mse: 6.1545\n",
            "Epoch 59/300\n",
            "10/10 [==============================] - 0s 4ms/step - loss: 1.8329 - mae: 1.8329 - mse: 8.2822 - val_loss: 1.5962 - val_mae: 1.5962 - val_mse: 6.1568\n",
            "Epoch 60/300\n",
            "10/10 [==============================] - 0s 4ms/step - loss: 1.8336 - mae: 1.8336 - mse: 8.2843 - val_loss: 1.5985 - val_mae: 1.5985 - val_mse: 6.1629\n",
            "Epoch 61/300\n",
            "10/10 [==============================] - 0s 3ms/step - loss: 1.8345 - mae: 1.8345 - mse: 8.2844 - val_loss: 1.5967 - val_mae: 1.5967 - val_mse: 6.1579\n",
            "Epoch 62/300\n",
            "10/10 [==============================] - 0s 4ms/step - loss: 1.8338 - mae: 1.8338 - mse: 8.2840 - val_loss: 1.5950 - val_mae: 1.5950 - val_mse: 6.1481\n",
            "Epoch 63/300\n",
            "10/10 [==============================] - 0s 3ms/step - loss: 1.8328 - mae: 1.8328 - mse: 8.2830 - val_loss: 1.5952 - val_mae: 1.5952 - val_mse: 6.1538\n",
            "Epoch 64/300\n",
            "10/10 [==============================] - 0s 3ms/step - loss: 1.8332 - mae: 1.8332 - mse: 8.2825 - val_loss: 1.5969 - val_mae: 1.5969 - val_mse: 6.1580\n",
            "Epoch 65/300\n",
            "10/10 [==============================] - 0s 3ms/step - loss: 1.8328 - mae: 1.8328 - mse: 8.2832 - val_loss: 1.5949 - val_mae: 1.5949 - val_mse: 6.1503\n",
            "Epoch 66/300\n",
            "10/10 [==============================] - 0s 3ms/step - loss: 1.8326 - mae: 1.8326 - mse: 8.2818 - val_loss: 1.5949 - val_mae: 1.5949 - val_mse: 6.1508\n",
            "Epoch 67/300\n",
            "10/10 [==============================] - 0s 3ms/step - loss: 1.8327 - mae: 1.8327 - mse: 8.2826 - val_loss: 1.5949 - val_mae: 1.5949 - val_mse: 6.1516\n",
            "Epoch 68/300\n",
            "10/10 [==============================] - 0s 3ms/step - loss: 1.8326 - mae: 1.8326 - mse: 8.2807 - val_loss: 1.5950 - val_mae: 1.5950 - val_mse: 6.1480\n",
            "Epoch 69/300\n",
            "10/10 [==============================] - 0s 4ms/step - loss: 1.8335 - mae: 1.8335 - mse: 8.2815 - val_loss: 1.5952 - val_mae: 1.5952 - val_mse: 6.1440\n",
            "Epoch 70/300\n",
            "10/10 [==============================] - 0s 3ms/step - loss: 1.8340 - mae: 1.8340 - mse: 8.2800 - val_loss: 1.5960 - val_mae: 1.5960 - val_mse: 6.1552\n",
            "Epoch 71/300\n",
            "10/10 [==============================] - 0s 4ms/step - loss: 1.8329 - mae: 1.8329 - mse: 8.2814 - val_loss: 1.5959 - val_mae: 1.5959 - val_mse: 6.1548\n",
            "Epoch 72/300\n",
            "10/10 [==============================] - 0s 4ms/step - loss: 1.8331 - mae: 1.8331 - mse: 8.2829 - val_loss: 1.5960 - val_mae: 1.5960 - val_mse: 6.1551\n",
            "Epoch 73/300\n",
            "10/10 [==============================] - 0s 4ms/step - loss: 1.8328 - mae: 1.8328 - mse: 8.2819 - val_loss: 1.5949 - val_mae: 1.5949 - val_mse: 6.1515\n",
            "Epoch 74/300\n",
            "10/10 [==============================] - 0s 3ms/step - loss: 1.8325 - mae: 1.8325 - mse: 8.2817 - val_loss: 1.5956 - val_mae: 1.5956 - val_mse: 6.1541\n",
            "Epoch 75/300\n",
            "10/10 [==============================] - 0s 3ms/step - loss: 1.8329 - mae: 1.8329 - mse: 8.2833 - val_loss: 1.5950 - val_mae: 1.5950 - val_mse: 6.1506\n",
            "Epoch 76/300\n",
            "10/10 [==============================] - 0s 4ms/step - loss: 1.8329 - mae: 1.8329 - mse: 8.2810 - val_loss: 1.5951 - val_mae: 1.5951 - val_mse: 6.1477\n",
            "Epoch 77/300\n",
            "10/10 [==============================] - 0s 4ms/step - loss: 1.8329 - mae: 1.8329 - mse: 8.2823 - val_loss: 1.5953 - val_mae: 1.5953 - val_mse: 6.1534\n",
            "Epoch 78/300\n",
            "10/10 [==============================] - 0s 3ms/step - loss: 1.8324 - mae: 1.8324 - mse: 8.2818 - val_loss: 1.5951 - val_mae: 1.5951 - val_mse: 6.1528\n",
            "Epoch 79/300\n",
            "10/10 [==============================] - 0s 4ms/step - loss: 1.8327 - mae: 1.8327 - mse: 8.2820 - val_loss: 1.5949 - val_mae: 1.5949 - val_mse: 6.1509\n",
            "Epoch 80/300\n",
            "10/10 [==============================] - 0s 3ms/step - loss: 1.8327 - mae: 1.8327 - mse: 8.2819 - val_loss: 1.5952 - val_mae: 1.5952 - val_mse: 6.1533\n",
            "Epoch 81/300\n",
            "10/10 [==============================] - 0s 3ms/step - loss: 1.8326 - mae: 1.8326 - mse: 8.2803 - val_loss: 1.5951 - val_mae: 1.5951 - val_mse: 6.1456\n",
            "Epoch 82/300\n",
            "10/10 [==============================] - 0s 3ms/step - loss: 1.8330 - mae: 1.8330 - mse: 8.2815 - val_loss: 1.5949 - val_mae: 1.5949 - val_mse: 6.1517\n",
            "Epoch 83/300\n",
            "10/10 [==============================] - 0s 3ms/step - loss: 1.8328 - mae: 1.8328 - mse: 8.2818 - val_loss: 1.5950 - val_mae: 1.5950 - val_mse: 6.1502\n",
            "Epoch 84/300\n",
            "10/10 [==============================] - 0s 3ms/step - loss: 1.8326 - mae: 1.8326 - mse: 8.2819 - val_loss: 1.5950 - val_mae: 1.5950 - val_mse: 6.1525\n",
            "Epoch 85/300\n",
            "10/10 [==============================] - 0s 3ms/step - loss: 1.8327 - mae: 1.8327 - mse: 8.2828 - val_loss: 1.5950 - val_mae: 1.5950 - val_mse: 6.1499\n",
            "Epoch 86/300\n",
            "10/10 [==============================] - 0s 4ms/step - loss: 1.8333 - mae: 1.8333 - mse: 8.2820 - val_loss: 1.5951 - val_mae: 1.5951 - val_mse: 6.1481\n",
            "Epoch 87/300\n",
            "10/10 [==============================] - 0s 3ms/step - loss: 1.8330 - mae: 1.8330 - mse: 8.2809 - val_loss: 1.5950 - val_mae: 1.5950 - val_mse: 6.1524\n",
            "Epoch 88/300\n",
            "10/10 [==============================] - 0s 3ms/step - loss: 1.8326 - mae: 1.8326 - mse: 8.2810 - val_loss: 1.5951 - val_mae: 1.5951 - val_mse: 6.1462\n",
            "Epoch 89/300\n",
            "10/10 [==============================] - 0s 3ms/step - loss: 1.8332 - mae: 1.8332 - mse: 8.2810 - val_loss: 1.5950 - val_mae: 1.5950 - val_mse: 6.1494\n",
            "Epoch 90/300\n",
            "10/10 [==============================] - 0s 5ms/step - loss: 1.8330 - mae: 1.8330 - mse: 8.2825 - val_loss: 1.5950 - val_mae: 1.5950 - val_mse: 6.1481\n",
            "Epoch 91/300\n",
            "10/10 [==============================] - 0s 4ms/step - loss: 1.8328 - mae: 1.8328 - mse: 8.2815 - val_loss: 1.5949 - val_mae: 1.5949 - val_mse: 6.1520\n",
            "Epoch 92/300\n",
            "10/10 [==============================] - 0s 4ms/step - loss: 1.8325 - mae: 1.8325 - mse: 8.2817 - val_loss: 1.5956 - val_mae: 1.5956 - val_mse: 6.1541\n",
            "Epoch 93/300\n",
            "10/10 [==============================] - 0s 4ms/step - loss: 1.8324 - mae: 1.8324 - mse: 8.2818 - val_loss: 1.5950 - val_mae: 1.5950 - val_mse: 6.1506\n",
            "Epoch 94/300\n",
            "10/10 [==============================] - 0s 5ms/step - loss: 1.8325 - mae: 1.8325 - mse: 8.2818 - val_loss: 1.5949 - val_mae: 1.5949 - val_mse: 6.1512\n",
            "Epoch 95/300\n",
            "10/10 [==============================] - 0s 3ms/step - loss: 1.8328 - mae: 1.8328 - mse: 8.2815 - val_loss: 1.5969 - val_mae: 1.5969 - val_mse: 6.1574\n",
            "Epoch 96/300\n",
            "10/10 [==============================] - 0s 3ms/step - loss: 1.8329 - mae: 1.8329 - mse: 8.2831 - val_loss: 1.5951 - val_mae: 1.5951 - val_mse: 6.1529\n",
            "Epoch 97/300\n",
            "10/10 [==============================] - 0s 3ms/step - loss: 1.8326 - mae: 1.8326 - mse: 8.2812 - val_loss: 1.5953 - val_mae: 1.5953 - val_mse: 6.1534\n",
            "Epoch 98/300\n",
            "10/10 [==============================] - 0s 3ms/step - loss: 1.8334 - mae: 1.8334 - mse: 8.2814 - val_loss: 1.5951 - val_mae: 1.5951 - val_mse: 6.1468\n",
            "Epoch 99/300\n",
            "10/10 [==============================] - 0s 3ms/step - loss: 1.8329 - mae: 1.8329 - mse: 8.2802 - val_loss: 1.5951 - val_mae: 1.5951 - val_mse: 6.1469\n",
            "Epoch 100/300\n",
            "10/10 [==============================] - 0s 4ms/step - loss: 1.8331 - mae: 1.8331 - mse: 8.2822 - val_loss: 1.5950 - val_mae: 1.5950 - val_mse: 6.1497\n",
            "Epoch 101/300\n",
            "10/10 [==============================] - 0s 3ms/step - loss: 1.8328 - mae: 1.8328 - mse: 8.2805 - val_loss: 1.5950 - val_mae: 1.5950 - val_mse: 6.1478\n",
            "Epoch 102/300\n",
            "10/10 [==============================] - 0s 4ms/step - loss: 1.8337 - mae: 1.8337 - mse: 8.2848 - val_loss: 1.5950 - val_mae: 1.5950 - val_mse: 6.1491\n",
            "Epoch 103/300\n",
            "10/10 [==============================] - 0s 4ms/step - loss: 1.8347 - mae: 1.8347 - mse: 8.2747 - val_loss: 1.5960 - val_mae: 1.5960 - val_mse: 6.1555\n",
            "Epoch 104/300\n",
            "10/10 [==============================] - 0s 3ms/step - loss: 1.8339 - mae: 1.8339 - mse: 8.2841 - val_loss: 1.5951 - val_mae: 1.5951 - val_mse: 6.1466\n",
            "Epoch 105/300\n",
            "10/10 [==============================] - 0s 4ms/step - loss: 1.8333 - mae: 1.8333 - mse: 8.2802 - val_loss: 1.5949 - val_mae: 1.5949 - val_mse: 6.1510\n",
            "Epoch 106/300\n",
            "10/10 [==============================] - 0s 5ms/step - loss: 1.8326 - mae: 1.8326 - mse: 8.2820 - val_loss: 1.5949 - val_mae: 1.5949 - val_mse: 6.1521\n",
            "Epoch 107/300\n",
            "10/10 [==============================] - 0s 4ms/step - loss: 1.8326 - mae: 1.8326 - mse: 8.2821 - val_loss: 1.5952 - val_mae: 1.5952 - val_mse: 6.1534\n",
            "Epoch 108/300\n",
            "10/10 [==============================] - 0s 4ms/step - loss: 1.8325 - mae: 1.8325 - mse: 8.2818 - val_loss: 1.5950 - val_mae: 1.5950 - val_mse: 6.1495\n",
            "Epoch 109/300\n",
            "10/10 [==============================] - 0s 4ms/step - loss: 1.8326 - mae: 1.8326 - mse: 8.2817 - val_loss: 1.5950 - val_mae: 1.5950 - val_mse: 6.1482\n",
            "Epoch 110/300\n",
            "10/10 [==============================] - 0s 4ms/step - loss: 1.8331 - mae: 1.8331 - mse: 8.2823 - val_loss: 1.5950 - val_mae: 1.5950 - val_mse: 6.1525\n",
            "Epoch 111/300\n",
            "10/10 [==============================] - 0s 3ms/step - loss: 1.8324 - mae: 1.8324 - mse: 8.2819 - val_loss: 1.5949 - val_mae: 1.5949 - val_mse: 6.1517\n",
            "Epoch 112/300\n",
            "10/10 [==============================] - 0s 3ms/step - loss: 1.8327 - mae: 1.8327 - mse: 8.2826 - val_loss: 1.5950 - val_mae: 1.5950 - val_mse: 6.1502\n",
            "Epoch 113/300\n",
            "10/10 [==============================] - 0s 3ms/step - loss: 1.8329 - mae: 1.8329 - mse: 8.2825 - val_loss: 1.5950 - val_mae: 1.5950 - val_mse: 6.1496\n",
            "Epoch 114/300\n",
            "10/10 [==============================] - 0s 3ms/step - loss: 1.8331 - mae: 1.8331 - mse: 8.2814 - val_loss: 1.5949 - val_mae: 1.5949 - val_mse: 6.1512\n",
            "Epoch 115/300\n",
            "10/10 [==============================] - 0s 4ms/step - loss: 1.8326 - mae: 1.8326 - mse: 8.2816 - val_loss: 1.5949 - val_mae: 1.5949 - val_mse: 6.1513\n",
            "Epoch 116/300\n",
            "10/10 [==============================] - 0s 4ms/step - loss: 1.8325 - mae: 1.8325 - mse: 8.2811 - val_loss: 1.5949 - val_mae: 1.5949 - val_mse: 6.1516\n",
            "Epoch 117/300\n",
            "10/10 [==============================] - 0s 4ms/step - loss: 1.8331 - mae: 1.8331 - mse: 8.2831 - val_loss: 1.5967 - val_mae: 1.5967 - val_mse: 6.1572\n",
            "Epoch 118/300\n",
            "10/10 [==============================] - 0s 3ms/step - loss: 1.8333 - mae: 1.8333 - mse: 8.2804 - val_loss: 1.5949 - val_mae: 1.5949 - val_mse: 6.1515\n",
            "Epoch 119/300\n",
            "10/10 [==============================] - 0s 4ms/step - loss: 1.8341 - mae: 1.8341 - mse: 8.2855 - val_loss: 1.5952 - val_mae: 1.5952 - val_mse: 6.1446\n",
            "Epoch 120/300\n",
            "10/10 [==============================] - 0s 3ms/step - loss: 1.8343 - mae: 1.8343 - mse: 8.2748 - val_loss: 1.5964 - val_mae: 1.5964 - val_mse: 6.1566\n",
            "Epoch 121/300\n",
            "10/10 [==============================] - 0s 4ms/step - loss: 1.8333 - mae: 1.8333 - mse: 8.2813 - val_loss: 1.5951 - val_mae: 1.5951 - val_mse: 6.1467\n",
            "Epoch 122/300\n",
            "10/10 [==============================] - 0s 4ms/step - loss: 1.8328 - mae: 1.8328 - mse: 8.2806 - val_loss: 1.5949 - val_mae: 1.5949 - val_mse: 6.1520\n",
            "Epoch 123/300\n",
            "10/10 [==============================] - 0s 3ms/step - loss: 1.8329 - mae: 1.8329 - mse: 8.2833 - val_loss: 1.5962 - val_mae: 1.5962 - val_mse: 6.1562\n",
            "Epoch 124/300\n",
            "10/10 [==============================] - 0s 3ms/step - loss: 1.8327 - mae: 1.8327 - mse: 8.2824 - val_loss: 1.5956 - val_mae: 1.5956 - val_mse: 6.1547\n",
            "Epoch 125/300\n",
            "10/10 [==============================] - 0s 3ms/step - loss: 1.8328 - mae: 1.8328 - mse: 8.2820 - val_loss: 1.5949 - val_mae: 1.5949 - val_mse: 6.1520\n",
            "Epoch 126/300\n",
            "10/10 [==============================] - 0s 4ms/step - loss: 1.8327 - mae: 1.8327 - mse: 8.2826 - val_loss: 1.5953 - val_mae: 1.5953 - val_mse: 6.1538\n",
            "Epoch 127/300\n",
            "10/10 [==============================] - 0s 3ms/step - loss: 1.8330 - mae: 1.8330 - mse: 8.2821 - val_loss: 1.5951 - val_mae: 1.5951 - val_mse: 6.1471\n",
            "Epoch 128/300\n",
            "10/10 [==============================] - 0s 4ms/step - loss: 1.8333 - mae: 1.8333 - mse: 8.2799 - val_loss: 1.5949 - val_mae: 1.5949 - val_mse: 6.1510\n",
            "Epoch 129/300\n",
            "10/10 [==============================] - 0s 3ms/step - loss: 1.8327 - mae: 1.8327 - mse: 8.2817 - val_loss: 1.5962 - val_mae: 1.5962 - val_mse: 6.1558\n",
            "Epoch 130/300\n",
            "10/10 [==============================] - 0s 4ms/step - loss: 1.8336 - mae: 1.8336 - mse: 8.2815 - val_loss: 1.5954 - val_mae: 1.5954 - val_mse: 6.1537\n",
            "Epoch 131/300\n",
            "10/10 [==============================] - 0s 4ms/step - loss: 1.8331 - mae: 1.8331 - mse: 8.2826 - val_loss: 1.5968 - val_mae: 1.5968 - val_mse: 6.1577\n",
            "Epoch 132/300\n",
            "10/10 [==============================] - 0s 3ms/step - loss: 1.8330 - mae: 1.8330 - mse: 8.2817 - val_loss: 1.5949 - val_mae: 1.5949 - val_mse: 6.1518\n",
            "Epoch 133/300\n",
            "10/10 [==============================] - 0s 3ms/step - loss: 1.8330 - mae: 1.8330 - mse: 8.2831 - val_loss: 1.5964 - val_mae: 1.5964 - val_mse: 6.1564\n",
            "Epoch 134/300\n",
            "10/10 [==============================] - 0s 4ms/step - loss: 1.8327 - mae: 1.8327 - mse: 8.2823 - val_loss: 1.5949 - val_mae: 1.5949 - val_mse: 6.1518\n",
            "Epoch 135/300\n",
            "10/10 [==============================] - 0s 4ms/step - loss: 1.8326 - mae: 1.8326 - mse: 8.2821 - val_loss: 1.5952 - val_mae: 1.5952 - val_mse: 6.1531\n",
            "Epoch 136/300\n",
            "10/10 [==============================] - 0s 4ms/step - loss: 1.8326 - mae: 1.8326 - mse: 8.2816 - val_loss: 1.5951 - val_mae: 1.5951 - val_mse: 6.1456\n",
            "Epoch 137/300\n",
            "10/10 [==============================] - 0s 4ms/step - loss: 1.8331 - mae: 1.8331 - mse: 8.2777 - val_loss: 1.5978 - val_mae: 1.5978 - val_mse: 6.1601\n",
            "Epoch 138/300\n",
            "10/10 [==============================] - 0s 4ms/step - loss: 1.8335 - mae: 1.8335 - mse: 8.2808 - val_loss: 1.5951 - val_mae: 1.5951 - val_mse: 6.1472\n",
            "Epoch 139/300\n",
            "10/10 [==============================] - 0s 3ms/step - loss: 1.8337 - mae: 1.8337 - mse: 8.2855 - val_loss: 1.5950 - val_mae: 1.5950 - val_mse: 6.1500\n",
            "Epoch 140/300\n",
            "10/10 [==============================] - 0s 4ms/step - loss: 1.8325 - mae: 1.8325 - mse: 8.2822 - val_loss: 1.5960 - val_mae: 1.5960 - val_mse: 6.1553\n",
            "Epoch 141/300\n",
            "10/10 [==============================] - 0s 3ms/step - loss: 1.8331 - mae: 1.8331 - mse: 8.2819 - val_loss: 1.5950 - val_mae: 1.5950 - val_mse: 6.1526\n",
            "Epoch 142/300\n",
            "10/10 [==============================] - 0s 4ms/step - loss: 1.8326 - mae: 1.8326 - mse: 8.2824 - val_loss: 1.5950 - val_mae: 1.5950 - val_mse: 6.1496\n",
            "Epoch 143/300\n",
            "10/10 [==============================] - 0s 4ms/step - loss: 1.8329 - mae: 1.8329 - mse: 8.2809 - val_loss: 1.5956 - val_mae: 1.5956 - val_mse: 6.1542\n",
            "Epoch 144/300\n",
            "10/10 [==============================] - 0s 4ms/step - loss: 1.8326 - mae: 1.8326 - mse: 8.2816 - val_loss: 1.5949 - val_mae: 1.5949 - val_mse: 6.1516\n",
            "Epoch 145/300\n",
            "10/10 [==============================] - 0s 3ms/step - loss: 1.8329 - mae: 1.8329 - mse: 8.2825 - val_loss: 1.5950 - val_mae: 1.5950 - val_mse: 6.1499\n",
            "Epoch 146/300\n",
            "10/10 [==============================] - 0s 3ms/step - loss: 1.8325 - mae: 1.8325 - mse: 8.2820 - val_loss: 1.5949 - val_mae: 1.5949 - val_mse: 6.1516\n",
            "Epoch 147/300\n",
            "10/10 [==============================] - 0s 3ms/step - loss: 1.8326 - mae: 1.8326 - mse: 8.2817 - val_loss: 1.5950 - val_mae: 1.5950 - val_mse: 6.1508\n",
            "Epoch 148/300\n",
            "10/10 [==============================] - 0s 4ms/step - loss: 1.8325 - mae: 1.8325 - mse: 8.2816 - val_loss: 1.5950 - val_mae: 1.5950 - val_mse: 6.1507\n",
            "Epoch 149/300\n",
            "10/10 [==============================] - 0s 4ms/step - loss: 1.8325 - mae: 1.8325 - mse: 8.2819 - val_loss: 1.5956 - val_mae: 1.5956 - val_mse: 6.1539\n",
            "Epoch 150/300\n",
            "10/10 [==============================] - 0s 4ms/step - loss: 1.8329 - mae: 1.8329 - mse: 8.2814 - val_loss: 1.5963 - val_mae: 1.5963 - val_mse: 6.1558\n",
            "Epoch 151/300\n",
            "10/10 [==============================] - 0s 4ms/step - loss: 1.8337 - mae: 1.8337 - mse: 8.2840 - val_loss: 1.5964 - val_mae: 1.5964 - val_mse: 6.1559\n",
            "Epoch 152/300\n",
            "10/10 [==============================] - 0s 3ms/step - loss: 1.8330 - mae: 1.8330 - mse: 8.2816 - val_loss: 1.5969 - val_mae: 1.5969 - val_mse: 6.1572\n",
            "Epoch 153/300\n",
            "10/10 [==============================] - 0s 3ms/step - loss: 1.8330 - mae: 1.8330 - mse: 8.2820 - val_loss: 1.5956 - val_mae: 1.5956 - val_mse: 6.1539\n",
            "Epoch 154/300\n",
            "10/10 [==============================] - 0s 4ms/step - loss: 1.8325 - mae: 1.8325 - mse: 8.2818 - val_loss: 1.5950 - val_mae: 1.5950 - val_mse: 6.1523\n",
            "Epoch 155/300\n",
            "10/10 [==============================] - 0s 3ms/step - loss: 1.8326 - mae: 1.8326 - mse: 8.2812 - val_loss: 1.5954 - val_mae: 1.5954 - val_mse: 6.1533\n",
            "Epoch 156/300\n",
            "10/10 [==============================] - 0s 4ms/step - loss: 1.8326 - mae: 1.8326 - mse: 8.2820 - val_loss: 1.5950 - val_mae: 1.5950 - val_mse: 6.1521\n",
            "Epoch 157/300\n",
            "10/10 [==============================] - 0s 4ms/step - loss: 1.8325 - mae: 1.8325 - mse: 8.2823 - val_loss: 1.5950 - val_mae: 1.5950 - val_mse: 6.1505\n",
            "Epoch 158/300\n",
            "10/10 [==============================] - 0s 4ms/step - loss: 1.8329 - mae: 1.8329 - mse: 8.2811 - val_loss: 1.5950 - val_mae: 1.5950 - val_mse: 6.1483\n",
            "Epoch 159/300\n",
            "10/10 [==============================] - 0s 4ms/step - loss: 1.8327 - mae: 1.8327 - mse: 8.2813 - val_loss: 1.5951 - val_mae: 1.5951 - val_mse: 6.1527\n",
            "Epoch 160/300\n",
            "10/10 [==============================] - 0s 4ms/step - loss: 1.8324 - mae: 1.8324 - mse: 8.2820 - val_loss: 1.5950 - val_mae: 1.5950 - val_mse: 6.1525\n",
            "Epoch 161/300\n",
            "10/10 [==============================] - 0s 4ms/step - loss: 1.8329 - mae: 1.8329 - mse: 8.2813 - val_loss: 1.5950 - val_mae: 1.5950 - val_mse: 6.1523\n",
            "Epoch 162/300\n",
            "10/10 [==============================] - 0s 4ms/step - loss: 1.8330 - mae: 1.8330 - mse: 8.2816 - val_loss: 1.5951 - val_mae: 1.5951 - val_mse: 6.1473\n",
            "Epoch 163/300\n",
            "10/10 [==============================] - 0s 3ms/step - loss: 1.8330 - mae: 1.8330 - mse: 8.2819 - val_loss: 1.5971 - val_mae: 1.5971 - val_mse: 6.1584\n",
            "Epoch 164/300\n",
            "10/10 [==============================] - 0s 4ms/step - loss: 1.8334 - mae: 1.8334 - mse: 8.2824 - val_loss: 1.5960 - val_mae: 1.5960 - val_mse: 6.1554\n",
            "Epoch 165/300\n",
            "10/10 [==============================] - 0s 4ms/step - loss: 1.8332 - mae: 1.8332 - mse: 8.2810 - val_loss: 1.5967 - val_mae: 1.5967 - val_mse: 6.1576\n",
            "Epoch 166/300\n",
            "10/10 [==============================] - 0s 3ms/step - loss: 1.8338 - mae: 1.8338 - mse: 8.2850 - val_loss: 1.5966 - val_mae: 1.5966 - val_mse: 6.1573\n",
            "Epoch 167/300\n",
            "10/10 [==============================] - 0s 3ms/step - loss: 1.8336 - mae: 1.8336 - mse: 8.2820 - val_loss: 1.5952 - val_mae: 1.5952 - val_mse: 6.1438\n",
            "Epoch 168/300\n",
            "10/10 [==============================] - 0s 5ms/step - loss: 1.8336 - mae: 1.8336 - mse: 8.2787 - val_loss: 1.5971 - val_mae: 1.5971 - val_mse: 6.1586\n",
            "Epoch 169/300\n",
            "10/10 [==============================] - 0s 3ms/step - loss: 1.8329 - mae: 1.8329 - mse: 8.2834 - val_loss: 1.5949 - val_mae: 1.5949 - val_mse: 6.1523\n",
            "Epoch 170/300\n",
            "10/10 [==============================] - 0s 3ms/step - loss: 1.8326 - mae: 1.8326 - mse: 8.2828 - val_loss: 1.5949 - val_mae: 1.5949 - val_mse: 6.1515\n",
            "Epoch 171/300\n",
            "10/10 [==============================] - 0s 4ms/step - loss: 1.8329 - mae: 1.8329 - mse: 8.2810 - val_loss: 1.5972 - val_mae: 1.5972 - val_mse: 6.1584\n",
            "Epoch 172/300\n",
            "10/10 [==============================] - 0s 4ms/step - loss: 1.8332 - mae: 1.8332 - mse: 8.2846 - val_loss: 1.5950 - val_mae: 1.5950 - val_mse: 6.1523\n",
            "Epoch 173/300\n",
            "10/10 [==============================] - 0s 4ms/step - loss: 1.8326 - mae: 1.8326 - mse: 8.2814 - val_loss: 1.5949 - val_mae: 1.5949 - val_mse: 6.1514\n",
            "Epoch 174/300\n",
            "10/10 [==============================] - 0s 4ms/step - loss: 1.8333 - mae: 1.8333 - mse: 8.2833 - val_loss: 1.5951 - val_mae: 1.5951 - val_mse: 6.1477\n",
            "Epoch 175/300\n",
            "10/10 [==============================] - 0s 4ms/step - loss: 1.8333 - mae: 1.8333 - mse: 8.2845 - val_loss: 1.5951 - val_mae: 1.5951 - val_mse: 6.1469\n",
            "Epoch 176/300\n",
            "10/10 [==============================] - 0s 3ms/step - loss: 1.8338 - mae: 1.8338 - mse: 8.2802 - val_loss: 1.5967 - val_mae: 1.5967 - val_mse: 6.1572\n",
            "Epoch 177/300\n",
            "10/10 [==============================] - 0s 3ms/step - loss: 1.8329 - mae: 1.8329 - mse: 8.2817 - val_loss: 1.5957 - val_mae: 1.5957 - val_mse: 6.1544\n",
            "Epoch 178/300\n",
            "10/10 [==============================] - 0s 3ms/step - loss: 1.8332 - mae: 1.8332 - mse: 8.2812 - val_loss: 1.5950 - val_mae: 1.5950 - val_mse: 6.1480\n",
            "Epoch 179/300\n",
            "10/10 [==============================] - 0s 3ms/step - loss: 1.8328 - mae: 1.8328 - mse: 8.2811 - val_loss: 1.5954 - val_mae: 1.5954 - val_mse: 6.1536\n",
            "Epoch 180/300\n",
            "10/10 [==============================] - 0s 4ms/step - loss: 1.8328 - mae: 1.8328 - mse: 8.2821 - val_loss: 1.5950 - val_mae: 1.5950 - val_mse: 6.1506\n",
            "Epoch 181/300\n",
            "10/10 [==============================] - 0s 4ms/step - loss: 1.8330 - mae: 1.8330 - mse: 8.2815 - val_loss: 1.5950 - val_mae: 1.5950 - val_mse: 6.1491\n",
            "Epoch 182/300\n",
            "10/10 [==============================] - 0s 4ms/step - loss: 1.8327 - mae: 1.8327 - mse: 8.2811 - val_loss: 1.5957 - val_mae: 1.5957 - val_mse: 6.1546\n",
            "Epoch 183/300\n",
            "10/10 [==============================] - 0s 3ms/step - loss: 1.8328 - mae: 1.8328 - mse: 8.2829 - val_loss: 1.5949 - val_mae: 1.5949 - val_mse: 6.1517\n",
            "Epoch 184/300\n",
            "10/10 [==============================] - 0s 5ms/step - loss: 1.8327 - mae: 1.8327 - mse: 8.2825 - val_loss: 1.5951 - val_mae: 1.5951 - val_mse: 6.1528\n",
            "Epoch 185/300\n",
            "10/10 [==============================] - 0s 4ms/step - loss: 1.8326 - mae: 1.8326 - mse: 8.2818 - val_loss: 1.5952 - val_mae: 1.5952 - val_mse: 6.1529\n",
            "Epoch 186/300\n",
            "10/10 [==============================] - 0s 4ms/step - loss: 1.8326 - mae: 1.8326 - mse: 8.2816 - val_loss: 1.5963 - val_mae: 1.5963 - val_mse: 6.1558\n",
            "Epoch 187/300\n",
            "10/10 [==============================] - 0s 3ms/step - loss: 1.8326 - mae: 1.8326 - mse: 8.2822 - val_loss: 1.5949 - val_mae: 1.5949 - val_mse: 6.1520\n",
            "Epoch 188/300\n",
            "10/10 [==============================] - 0s 4ms/step - loss: 1.8327 - mae: 1.8327 - mse: 8.2813 - val_loss: 1.5951 - val_mae: 1.5951 - val_mse: 6.1475\n",
            "Epoch 189/300\n",
            "10/10 [==============================] - 0s 4ms/step - loss: 1.8329 - mae: 1.8329 - mse: 8.2809 - val_loss: 1.5950 - val_mae: 1.5950 - val_mse: 6.1492\n",
            "Epoch 190/300\n",
            "10/10 [==============================] - 0s 4ms/step - loss: 1.8328 - mae: 1.8328 - mse: 8.2815 - val_loss: 1.5951 - val_mae: 1.5951 - val_mse: 6.1465\n",
            "Epoch 191/300\n",
            "10/10 [==============================] - 0s 3ms/step - loss: 1.8333 - mae: 1.8333 - mse: 8.2797 - val_loss: 1.5966 - val_mae: 1.5966 - val_mse: 6.1569\n",
            "Epoch 192/300\n",
            "10/10 [==============================] - 0s 4ms/step - loss: 1.8331 - mae: 1.8331 - mse: 8.2831 - val_loss: 1.5950 - val_mae: 1.5950 - val_mse: 6.1524\n",
            "Epoch 193/300\n",
            "10/10 [==============================] - 0s 4ms/step - loss: 1.8326 - mae: 1.8326 - mse: 8.2817 - val_loss: 1.5954 - val_mae: 1.5954 - val_mse: 6.1538\n",
            "Epoch 194/300\n",
            "10/10 [==============================] - 0s 4ms/step - loss: 1.8325 - mae: 1.8325 - mse: 8.2824 - val_loss: 1.5949 - val_mae: 1.5949 - val_mse: 6.1504\n",
            "Epoch 195/300\n",
            "10/10 [==============================] - 0s 4ms/step - loss: 1.8326 - mae: 1.8326 - mse: 8.2825 - val_loss: 1.5949 - val_mae: 1.5949 - val_mse: 6.1520\n",
            "Epoch 196/300\n",
            "10/10 [==============================] - 0s 4ms/step - loss: 1.8326 - mae: 1.8326 - mse: 8.2808 - val_loss: 1.5958 - val_mae: 1.5958 - val_mse: 6.1545\n",
            "Epoch 197/300\n",
            "10/10 [==============================] - 0s 4ms/step - loss: 1.8328 - mae: 1.8328 - mse: 8.2832 - val_loss: 1.5951 - val_mae: 1.5951 - val_mse: 6.1525\n",
            "Epoch 198/300\n",
            "10/10 [==============================] - 0s 4ms/step - loss: 1.8325 - mae: 1.8325 - mse: 8.2815 - val_loss: 1.5951 - val_mae: 1.5951 - val_mse: 6.1528\n",
            "Epoch 199/300\n",
            "10/10 [==============================] - 0s 4ms/step - loss: 1.8326 - mae: 1.8326 - mse: 8.2821 - val_loss: 1.5951 - val_mae: 1.5951 - val_mse: 6.1527\n",
            "Epoch 200/300\n",
            "10/10 [==============================] - 0s 3ms/step - loss: 1.8336 - mae: 1.8336 - mse: 8.2808 - val_loss: 1.5959 - val_mae: 1.5959 - val_mse: 6.1548\n",
            "Epoch 201/300\n",
            "10/10 [==============================] - 0s 4ms/step - loss: 1.8325 - mae: 1.8325 - mse: 8.2818 - val_loss: 1.5950 - val_mae: 1.5950 - val_mse: 6.1524\n",
            "Epoch 202/300\n",
            "10/10 [==============================] - 0s 5ms/step - loss: 1.8326 - mae: 1.8326 - mse: 8.2816 - val_loss: 1.5962 - val_mae: 1.5962 - val_mse: 6.1557\n",
            "Epoch 203/300\n",
            "10/10 [==============================] - 0s 4ms/step - loss: 1.8333 - mae: 1.8333 - mse: 8.2816 - val_loss: 1.5961 - val_mae: 1.5961 - val_mse: 6.1555\n",
            "Epoch 204/300\n",
            "10/10 [==============================] - 0s 4ms/step - loss: 1.8330 - mae: 1.8330 - mse: 8.2816 - val_loss: 1.5969 - val_mae: 1.5969 - val_mse: 6.1577\n",
            "Epoch 205/300\n",
            "10/10 [==============================] - 0s 4ms/step - loss: 1.8335 - mae: 1.8335 - mse: 8.2827 - val_loss: 1.5952 - val_mae: 1.5952 - val_mse: 6.1426\n",
            "Epoch 206/300\n",
            "10/10 [==============================] - 0s 4ms/step - loss: 1.8346 - mae: 1.8346 - mse: 8.2821 - val_loss: 1.5982 - val_mae: 1.5982 - val_mse: 6.1611\n",
            "Epoch 207/300\n",
            "10/10 [==============================] - 0s 4ms/step - loss: 1.8331 - mae: 1.8331 - mse: 8.2840 - val_loss: 1.5950 - val_mae: 1.5950 - val_mse: 6.1525\n",
            "Epoch 208/300\n",
            "10/10 [==============================] - 0s 5ms/step - loss: 1.8324 - mae: 1.8324 - mse: 8.2824 - val_loss: 1.5949 - val_mae: 1.5949 - val_mse: 6.1516\n",
            "Epoch 209/300\n",
            "10/10 [==============================] - 0s 4ms/step - loss: 1.8326 - mae: 1.8326 - mse: 8.2817 - val_loss: 1.5951 - val_mae: 1.5951 - val_mse: 6.1529\n",
            "Epoch 210/300\n",
            "10/10 [==============================] - 0s 4ms/step - loss: 1.8326 - mae: 1.8326 - mse: 8.2820 - val_loss: 1.5962 - val_mae: 1.5962 - val_mse: 6.1556\n",
            "Epoch 211/300\n",
            "10/10 [==============================] - 0s 4ms/step - loss: 1.8328 - mae: 1.8328 - mse: 8.2830 - val_loss: 1.5950 - val_mae: 1.5950 - val_mse: 6.1504\n",
            "Epoch 212/300\n",
            "10/10 [==============================] - 0s 3ms/step - loss: 1.8330 - mae: 1.8330 - mse: 8.2817 - val_loss: 1.5957 - val_mae: 1.5957 - val_mse: 6.1543\n",
            "Epoch 213/300\n",
            "10/10 [==============================] - 0s 3ms/step - loss: 1.8331 - mae: 1.8331 - mse: 8.2822 - val_loss: 1.5950 - val_mae: 1.5950 - val_mse: 6.1523\n",
            "Epoch 214/300\n",
            "10/10 [==============================] - 0s 3ms/step - loss: 1.8326 - mae: 1.8326 - mse: 8.2811 - val_loss: 1.5952 - val_mae: 1.5952 - val_mse: 6.1532\n",
            "Epoch 215/300\n",
            "10/10 [==============================] - 0s 4ms/step - loss: 1.8331 - mae: 1.8331 - mse: 8.2828 - val_loss: 1.5955 - val_mae: 1.5955 - val_mse: 6.1542\n",
            "Epoch 216/300\n",
            "10/10 [==============================] - 0s 4ms/step - loss: 1.8336 - mae: 1.8336 - mse: 8.2824 - val_loss: 1.5949 - val_mae: 1.5949 - val_mse: 6.1510\n",
            "Epoch 217/300\n",
            "10/10 [==============================] - 0s 3ms/step - loss: 1.8327 - mae: 1.8327 - mse: 8.2825 - val_loss: 1.5957 - val_mae: 1.5957 - val_mse: 6.1548\n",
            "Epoch 218/300\n",
            "10/10 [==============================] - 0s 5ms/step - loss: 1.8329 - mae: 1.8329 - mse: 8.2834 - val_loss: 1.5949 - val_mae: 1.5949 - val_mse: 6.1512\n",
            "Epoch 219/300\n",
            "10/10 [==============================] - 0s 4ms/step - loss: 1.8328 - mae: 1.8328 - mse: 8.2827 - val_loss: 1.5949 - val_mae: 1.5949 - val_mse: 6.1509\n",
            "Epoch 220/300\n",
            "10/10 [==============================] - 0s 4ms/step - loss: 1.8337 - mae: 1.8337 - mse: 8.2824 - val_loss: 1.5972 - val_mae: 1.5972 - val_mse: 6.1589\n",
            "Epoch 221/300\n",
            "10/10 [==============================] - 0s 3ms/step - loss: 1.8329 - mae: 1.8329 - mse: 8.2777 - val_loss: 1.5950 - val_mae: 1.5950 - val_mse: 6.1482\n",
            "Epoch 222/300\n",
            "10/10 [==============================] - 0s 4ms/step - loss: 1.8337 - mae: 1.8337 - mse: 8.2834 - val_loss: 1.5950 - val_mae: 1.5950 - val_mse: 6.1485\n",
            "Epoch 223/300\n",
            "10/10 [==============================] - 0s 3ms/step - loss: 1.8334 - mae: 1.8334 - mse: 8.2839 - val_loss: 1.5949 - val_mae: 1.5949 - val_mse: 6.1500\n",
            "Epoch 224/300\n",
            "10/10 [==============================] - 0s 4ms/step - loss: 1.8333 - mae: 1.8333 - mse: 8.2794 - val_loss: 1.5962 - val_mae: 1.5962 - val_mse: 6.1563\n",
            "Epoch 225/300\n",
            "10/10 [==============================] - 0s 4ms/step - loss: 1.8328 - mae: 1.8328 - mse: 8.2825 - val_loss: 1.5953 - val_mae: 1.5953 - val_mse: 6.1540\n",
            "Epoch 226/300\n",
            "10/10 [==============================] - 0s 4ms/step - loss: 1.8325 - mae: 1.8325 - mse: 8.2827 - val_loss: 1.5949 - val_mae: 1.5949 - val_mse: 6.1516\n",
            "Epoch 227/300\n",
            "10/10 [==============================] - 0s 4ms/step - loss: 1.8325 - mae: 1.8325 - mse: 8.2819 - val_loss: 1.5949 - val_mae: 1.5949 - val_mse: 6.1523\n",
            "Epoch 228/300\n",
            "10/10 [==============================] - 0s 4ms/step - loss: 1.8327 - mae: 1.8327 - mse: 8.2807 - val_loss: 1.5955 - val_mae: 1.5955 - val_mse: 6.1542\n",
            "Epoch 229/300\n",
            "10/10 [==============================] - 0s 4ms/step - loss: 1.8327 - mae: 1.8327 - mse: 8.2821 - val_loss: 1.5950 - val_mae: 1.5950 - val_mse: 6.1498\n",
            "Epoch 230/300\n",
            "10/10 [==============================] - 0s 4ms/step - loss: 1.8328 - mae: 1.8328 - mse: 8.2819 - val_loss: 1.5964 - val_mae: 1.5964 - val_mse: 6.1563\n",
            "Epoch 231/300\n",
            "10/10 [==============================] - 0s 4ms/step - loss: 1.8328 - mae: 1.8328 - mse: 8.2836 - val_loss: 1.5950 - val_mae: 1.5950 - val_mse: 6.1502\n",
            "Epoch 232/300\n",
            "10/10 [==============================] - 0s 3ms/step - loss: 1.8326 - mae: 1.8326 - mse: 8.2815 - val_loss: 1.5949 - val_mae: 1.5949 - val_mse: 6.1508\n",
            "Epoch 233/300\n",
            "10/10 [==============================] - 0s 4ms/step - loss: 1.8326 - mae: 1.8326 - mse: 8.2820 - val_loss: 1.5956 - val_mae: 1.5956 - val_mse: 6.1544\n",
            "Epoch 234/300\n",
            "10/10 [==============================] - 0s 3ms/step - loss: 1.8327 - mae: 1.8327 - mse: 8.2830 - val_loss: 1.5949 - val_mae: 1.5949 - val_mse: 6.1515\n",
            "Epoch 235/300\n",
            "10/10 [==============================] - 0s 4ms/step - loss: 1.8331 - mae: 1.8331 - mse: 8.2816 - val_loss: 1.5950 - val_mae: 1.5950 - val_mse: 6.1480\n",
            "Epoch 236/300\n",
            "10/10 [==============================] - 0s 4ms/step - loss: 1.8333 - mae: 1.8333 - mse: 8.2840 - val_loss: 1.5951 - val_mae: 1.5951 - val_mse: 6.1468\n",
            "Epoch 237/300\n",
            "10/10 [==============================] - 0s 4ms/step - loss: 1.8337 - mae: 1.8337 - mse: 8.2827 - val_loss: 1.5954 - val_mae: 1.5954 - val_mse: 6.1536\n",
            "Epoch 238/300\n",
            "10/10 [==============================] - 0s 3ms/step - loss: 1.8333 - mae: 1.8333 - mse: 8.2780 - val_loss: 1.5964 - val_mae: 1.5964 - val_mse: 6.1566\n",
            "Epoch 239/300\n",
            "10/10 [==============================] - 0s 4ms/step - loss: 1.8336 - mae: 1.8336 - mse: 8.2847 - val_loss: 1.5950 - val_mae: 1.5950 - val_mse: 6.1498\n",
            "Epoch 240/300\n",
            "10/10 [==============================] - 0s 5ms/step - loss: 1.8325 - mae: 1.8325 - mse: 8.2826 - val_loss: 1.5950 - val_mae: 1.5950 - val_mse: 6.1500\n",
            "Epoch 241/300\n",
            "10/10 [==============================] - 0s 4ms/step - loss: 1.8328 - mae: 1.8328 - mse: 8.2828 - val_loss: 1.5950 - val_mae: 1.5950 - val_mse: 6.1499\n",
            "Epoch 242/300\n",
            "10/10 [==============================] - 0s 3ms/step - loss: 1.8326 - mae: 1.8326 - mse: 8.2819 - val_loss: 1.5951 - val_mae: 1.5951 - val_mse: 6.1531\n",
            "Epoch 243/300\n",
            "10/10 [==============================] - 0s 3ms/step - loss: 1.8324 - mae: 1.8324 - mse: 8.2819 - val_loss: 1.5950 - val_mae: 1.5950 - val_mse: 6.1502\n",
            "Epoch 244/300\n",
            "10/10 [==============================] - 0s 4ms/step - loss: 1.8324 - mae: 1.8324 - mse: 8.2815 - val_loss: 1.5952 - val_mae: 1.5952 - val_mse: 6.1531\n",
            "Epoch 245/300\n",
            "10/10 [==============================] - 0s 4ms/step - loss: 1.8330 - mae: 1.8330 - mse: 8.2801 - val_loss: 1.5978 - val_mae: 1.5978 - val_mse: 6.1600\n",
            "Epoch 246/300\n",
            "10/10 [==============================] - 0s 4ms/step - loss: 1.8335 - mae: 1.8335 - mse: 8.2853 - val_loss: 1.5949 - val_mae: 1.5949 - val_mse: 6.1509\n",
            "Epoch 247/300\n",
            "10/10 [==============================] - 0s 5ms/step - loss: 1.8325 - mae: 1.8325 - mse: 8.2819 - val_loss: 1.5957 - val_mae: 1.5957 - val_mse: 6.1542\n",
            "Epoch 248/300\n",
            "10/10 [==============================] - 0s 4ms/step - loss: 1.8328 - mae: 1.8328 - mse: 8.2825 - val_loss: 1.5950 - val_mae: 1.5950 - val_mse: 6.1522\n",
            "Epoch 249/300\n",
            "10/10 [==============================] - 0s 5ms/step - loss: 1.8326 - mae: 1.8326 - mse: 8.2817 - val_loss: 1.5950 - val_mae: 1.5950 - val_mse: 6.1506\n",
            "Epoch 250/300\n",
            "10/10 [==============================] - 0s 5ms/step - loss: 1.8327 - mae: 1.8327 - mse: 8.2821 - val_loss: 1.5950 - val_mae: 1.5950 - val_mse: 6.1501\n",
            "Epoch 251/300\n",
            "10/10 [==============================] - 0s 4ms/step - loss: 1.8330 - mae: 1.8330 - mse: 8.2822 - val_loss: 1.5956 - val_mae: 1.5956 - val_mse: 6.1538\n",
            "Epoch 252/300\n",
            "10/10 [==============================] - 0s 4ms/step - loss: 1.8326 - mae: 1.8326 - mse: 8.2824 - val_loss: 1.5963 - val_mae: 1.5963 - val_mse: 6.1558\n",
            "Epoch 253/300\n",
            "10/10 [==============================] - 0s 4ms/step - loss: 1.8332 - mae: 1.8332 - mse: 8.2809 - val_loss: 1.5968 - val_mae: 1.5968 - val_mse: 6.1574\n",
            "Epoch 254/300\n",
            "10/10 [==============================] - 0s 5ms/step - loss: 1.8332 - mae: 1.8332 - mse: 8.2813 - val_loss: 1.5952 - val_mae: 1.5952 - val_mse: 6.1423\n",
            "Epoch 255/300\n",
            "10/10 [==============================] - 0s 4ms/step - loss: 1.8341 - mae: 1.8341 - mse: 8.2774 - val_loss: 1.5975 - val_mae: 1.5975 - val_mse: 6.1593\n",
            "Epoch 256/300\n",
            "10/10 [==============================] - 0s 4ms/step - loss: 1.8336 - mae: 1.8336 - mse: 8.2811 - val_loss: 1.5952 - val_mae: 1.5952 - val_mse: 6.1433\n",
            "Epoch 257/300\n",
            "10/10 [==============================] - 0s 5ms/step - loss: 1.8335 - mae: 1.8335 - mse: 8.2807 - val_loss: 1.5949 - val_mae: 1.5949 - val_mse: 6.1519\n",
            "Epoch 258/300\n",
            "10/10 [==============================] - 0s 4ms/step - loss: 1.8333 - mae: 1.8333 - mse: 8.2821 - val_loss: 1.5975 - val_mae: 1.5975 - val_mse: 6.1595\n",
            "Epoch 259/300\n",
            "10/10 [==============================] - 0s 4ms/step - loss: 1.8332 - mae: 1.8332 - mse: 8.2826 - val_loss: 1.5961 - val_mae: 1.5961 - val_mse: 6.1558\n",
            "Epoch 260/300\n",
            "10/10 [==============================] - 0s 3ms/step - loss: 1.8336 - mae: 1.8336 - mse: 8.2814 - val_loss: 1.5951 - val_mae: 1.5951 - val_mse: 6.1470\n",
            "Epoch 261/300\n",
            "10/10 [==============================] - 0s 4ms/step - loss: 1.8334 - mae: 1.8334 - mse: 8.2826 - val_loss: 1.5950 - val_mae: 1.5950 - val_mse: 6.1495\n",
            "Epoch 262/300\n",
            "10/10 [==============================] - 0s 4ms/step - loss: 1.8329 - mae: 1.8329 - mse: 8.2819 - val_loss: 1.5949 - val_mae: 1.5949 - val_mse: 6.1506\n",
            "Epoch 263/300\n",
            "10/10 [==============================] - 0s 4ms/step - loss: 1.8332 - mae: 1.8332 - mse: 8.2832 - val_loss: 1.5951 - val_mae: 1.5951 - val_mse: 6.1473\n",
            "Epoch 264/300\n",
            "10/10 [==============================] - 0s 4ms/step - loss: 1.8331 - mae: 1.8331 - mse: 8.2813 - val_loss: 1.5950 - val_mae: 1.5950 - val_mse: 6.1488\n",
            "Epoch 265/300\n",
            "10/10 [==============================] - 0s 4ms/step - loss: 1.8338 - mae: 1.8338 - mse: 8.2827 - val_loss: 1.5965 - val_mae: 1.5965 - val_mse: 6.1566\n",
            "Epoch 266/300\n",
            "10/10 [==============================] - 0s 4ms/step - loss: 1.8337 - mae: 1.8337 - mse: 8.2794 - val_loss: 1.5958 - val_mae: 1.5958 - val_mse: 6.1549\n",
            "Epoch 267/300\n",
            "10/10 [==============================] - 0s 4ms/step - loss: 1.8329 - mae: 1.8329 - mse: 8.2835 - val_loss: 1.5949 - val_mae: 1.5949 - val_mse: 6.1520\n",
            "Epoch 268/300\n",
            "10/10 [==============================] - 0s 4ms/step - loss: 1.8325 - mae: 1.8325 - mse: 8.2816 - val_loss: 1.5951 - val_mae: 1.5951 - val_mse: 6.1527\n",
            "Epoch 269/300\n",
            "10/10 [==============================] - 0s 3ms/step - loss: 1.8326 - mae: 1.8326 - mse: 8.2818 - val_loss: 1.5953 - val_mae: 1.5953 - val_mse: 6.1534\n",
            "Epoch 270/300\n",
            "10/10 [==============================] - 0s 4ms/step - loss: 1.8329 - mae: 1.8329 - mse: 8.2829 - val_loss: 1.5950 - val_mae: 1.5950 - val_mse: 6.1493\n",
            "Epoch 271/300\n",
            "10/10 [==============================] - 0s 4ms/step - loss: 1.8326 - mae: 1.8326 - mse: 8.2808 - val_loss: 1.5950 - val_mae: 1.5950 - val_mse: 6.1525\n",
            "Epoch 272/300\n",
            "10/10 [==============================] - 0s 4ms/step - loss: 1.8326 - mae: 1.8326 - mse: 8.2819 - val_loss: 1.5949 - val_mae: 1.5949 - val_mse: 6.1519\n",
            "Epoch 273/300\n",
            "10/10 [==============================] - 0s 4ms/step - loss: 1.8324 - mae: 1.8324 - mse: 8.2819 - val_loss: 1.5950 - val_mae: 1.5950 - val_mse: 6.1501\n",
            "Epoch 274/300\n",
            "10/10 [==============================] - 0s 3ms/step - loss: 1.8328 - mae: 1.8328 - mse: 8.2810 - val_loss: 1.5949 - val_mae: 1.5949 - val_mse: 6.1513\n",
            "Epoch 275/300\n",
            "10/10 [==============================] - 0s 4ms/step - loss: 1.8327 - mae: 1.8327 - mse: 8.2814 - val_loss: 1.5950 - val_mae: 1.5950 - val_mse: 6.1497\n",
            "Epoch 276/300\n",
            "10/10 [==============================] - 0s 4ms/step - loss: 1.8327 - mae: 1.8327 - mse: 8.2827 - val_loss: 1.5956 - val_mae: 1.5956 - val_mse: 6.1539\n",
            "Epoch 277/300\n",
            "10/10 [==============================] - 0s 4ms/step - loss: 1.8326 - mae: 1.8326 - mse: 8.2814 - val_loss: 1.5950 - val_mae: 1.5950 - val_mse: 6.1504\n",
            "Epoch 278/300\n",
            "10/10 [==============================] - 0s 4ms/step - loss: 1.8327 - mae: 1.8327 - mse: 8.2812 - val_loss: 1.5951 - val_mae: 1.5951 - val_mse: 6.1526\n",
            "Epoch 279/300\n",
            "10/10 [==============================] - 0s 4ms/step - loss: 1.8329 - mae: 1.8329 - mse: 8.2801 - val_loss: 1.5952 - val_mae: 1.5952 - val_mse: 6.1531\n",
            "Epoch 280/300\n",
            "10/10 [==============================] - 0s 3ms/step - loss: 1.8325 - mae: 1.8325 - mse: 8.2818 - val_loss: 1.5967 - val_mae: 1.5967 - val_mse: 6.1571\n",
            "Epoch 281/300\n",
            "10/10 [==============================] - 0s 4ms/step - loss: 1.8334 - mae: 1.8334 - mse: 8.2829 - val_loss: 1.5954 - val_mae: 1.5954 - val_mse: 6.1539\n",
            "Epoch 282/300\n",
            "10/10 [==============================] - 0s 4ms/step - loss: 1.8327 - mae: 1.8327 - mse: 8.2820 - val_loss: 1.5950 - val_mae: 1.5950 - val_mse: 6.1524\n",
            "Epoch 283/300\n",
            "10/10 [==============================] - 0s 4ms/step - loss: 1.8324 - mae: 1.8324 - mse: 8.2822 - val_loss: 1.5949 - val_mae: 1.5949 - val_mse: 6.1511\n",
            "Epoch 284/300\n",
            "10/10 [==============================] - 0s 4ms/step - loss: 1.8326 - mae: 1.8326 - mse: 8.2814 - val_loss: 1.5950 - val_mae: 1.5950 - val_mse: 6.1502\n",
            "Epoch 285/300\n",
            "10/10 [==============================] - 0s 3ms/step - loss: 1.8326 - mae: 1.8326 - mse: 8.2812 - val_loss: 1.5957 - val_mae: 1.5957 - val_mse: 6.1544\n",
            "Epoch 286/300\n",
            "10/10 [==============================] - 0s 3ms/step - loss: 1.8330 - mae: 1.8330 - mse: 8.2803 - val_loss: 1.5956 - val_mae: 1.5956 - val_mse: 6.1542\n",
            "Epoch 287/300\n",
            "10/10 [==============================] - 0s 3ms/step - loss: 1.8328 - mae: 1.8328 - mse: 8.2817 - val_loss: 1.5955 - val_mae: 1.5955 - val_mse: 6.1538\n",
            "Epoch 288/300\n",
            "10/10 [==============================] - 0s 4ms/step - loss: 1.8325 - mae: 1.8325 - mse: 8.2821 - val_loss: 1.5951 - val_mae: 1.5951 - val_mse: 6.1527\n",
            "Epoch 289/300\n",
            "10/10 [==============================] - 0s 4ms/step - loss: 1.8332 - mae: 1.8332 - mse: 8.2829 - val_loss: 1.5960 - val_mae: 1.5960 - val_mse: 6.1553\n",
            "Epoch 290/300\n",
            "10/10 [==============================] - 0s 4ms/step - loss: 1.8328 - mae: 1.8328 - mse: 8.2831 - val_loss: 1.5949 - val_mae: 1.5949 - val_mse: 6.1515\n",
            "Epoch 291/300\n",
            "10/10 [==============================] - 0s 4ms/step - loss: 1.8325 - mae: 1.8325 - mse: 8.2806 - val_loss: 1.5951 - val_mae: 1.5951 - val_mse: 6.1472\n",
            "Epoch 292/300\n",
            "10/10 [==============================] - 0s 3ms/step - loss: 1.8331 - mae: 1.8331 - mse: 8.2817 - val_loss: 1.5949 - val_mae: 1.5949 - val_mse: 6.1509\n",
            "Epoch 293/300\n",
            "10/10 [==============================] - 0s 4ms/step - loss: 1.8336 - mae: 1.8336 - mse: 8.2849 - val_loss: 1.5953 - val_mae: 1.5953 - val_mse: 6.1536\n",
            "Epoch 294/300\n",
            "10/10 [==============================] - 0s 3ms/step - loss: 1.8351 - mae: 1.8351 - mse: 8.2742 - val_loss: 1.5951 - val_mae: 1.5951 - val_mse: 6.1468\n",
            "Epoch 295/300\n",
            "10/10 [==============================] - 0s 4ms/step - loss: 1.8356 - mae: 1.8356 - mse: 8.2899 - val_loss: 1.5967 - val_mae: 1.5967 - val_mse: 6.1572\n",
            "Epoch 296/300\n",
            "10/10 [==============================] - 0s 4ms/step - loss: 1.8342 - mae: 1.8342 - mse: 8.2784 - val_loss: 1.5950 - val_mae: 1.5950 - val_mse: 6.1499\n",
            "Epoch 297/300\n",
            "10/10 [==============================] - 0s 4ms/step - loss: 1.8331 - mae: 1.8331 - mse: 8.2817 - val_loss: 1.5950 - val_mae: 1.5950 - val_mse: 6.1501\n",
            "Epoch 298/300\n",
            "10/10 [==============================] - 0s 4ms/step - loss: 1.8326 - mae: 1.8326 - mse: 8.2816 - val_loss: 1.5959 - val_mae: 1.5959 - val_mse: 6.1553\n",
            "Epoch 299/300\n",
            "10/10 [==============================] - 0s 4ms/step - loss: 1.8333 - mae: 1.8333 - mse: 8.2836 - val_loss: 1.5959 - val_mae: 1.5959 - val_mse: 6.1553\n",
            "Epoch 300/300\n",
            "10/10 [==============================] - 0s 3ms/step - loss: 1.8337 - mae: 1.8337 - mse: 8.2854 - val_loss: 1.5949 - val_mae: 1.5949 - val_mse: 6.1514\n"
          ],
          "name": "stdout"
        }
      ]
    },
    {
      "cell_type": "code",
      "metadata": {
        "colab": {
          "base_uri": "https://localhost:8080/"
        },
        "id": "4dNZH_Wu3UwB",
        "outputId": "c5e596ba-d0d9-470e-ea42-d80004622188"
      },
      "source": [
        "print(history)"
      ],
      "execution_count": 22,
      "outputs": [
        {
          "output_type": "stream",
          "text": [
            "<tensorflow.python.keras.callbacks.History object at 0x7f85d0824790>\n"
          ],
          "name": "stdout"
        }
      ]
    },
    {
      "cell_type": "code",
      "metadata": {
        "colab": {
          "base_uri": "https://localhost:8080/"
        },
        "id": "olDIItA03WuS",
        "outputId": "0ad71289-bd86-462f-c5f1-ee1c56be3877"
      },
      "source": [
        "model.summary()"
      ],
      "execution_count": 23,
      "outputs": [
        {
          "output_type": "stream",
          "text": [
            "Model: \"sequential\"\n",
            "_________________________________________________________________\n",
            "Layer (type)                 Output Shape              Param #   \n",
            "=================================================================\n",
            "dense (Dense)                (None, 1)                 2         \n",
            "=================================================================\n",
            "Total params: 2\n",
            "Trainable params: 2\n",
            "Non-trainable params: 0\n",
            "_________________________________________________________________\n"
          ],
          "name": "stdout"
        }
      ]
    },
    {
      "cell_type": "code",
      "metadata": {
        "colab": {
          "base_uri": "https://localhost:8080/",
          "height": 1000
        },
        "id": "0JQwV_Y33YRv",
        "outputId": "53bd4e97-5df7-406b-cd66-549a488e7bad"
      },
      "source": [
        "# tempString = 'mse'\n",
        "def curvePlots(tempString):\n",
        "  plt.plot(history.history[tempString])\n",
        "  plt.plot(history.history[f'val_{tempString}'])\n",
        "  plt.xlabel('NumEpochs')\n",
        "  plt.ylabel(tempString)\n",
        "  plt.legend([tempString, f'val_{tempString}'])\n",
        "  plt.show()\n",
        "\n",
        "\n",
        "curvePlots('mse')\n",
        "curvePlots('mae')\n",
        "curvePlots('loss')"
      ],
      "execution_count": 24,
      "outputs": [
        {
          "output_type": "display_data",
          "data": {
            "image/png": "[encoded data removed]",
            "text/plain": [
              "<Figure size 576x396 with 1 Axes>"
            ]
          },
          "metadata": {
            "tags": []
          }
        },
        {
          "output_type": "display_data",
          "data": {
            "image/png": "[encoded data removed]",
            "text/plain": [
              "<Figure size 576x396 with 1 Axes>"
            ]
          },
          "metadata": {
            "tags": []
          }
        },
        {
          "output_type": "display_data",
          "data": {
            "image/png": "[encoded data removed]",
            "text/plain": [
              "<Figure size 576x396 with 1 Axes>"
            ]
          },
          "metadata": {
            "tags": []
          }
        }
      ]
    },
    {
      "cell_type": "code",
      "metadata": {
        "colab": {
          "base_uri": "https://localhost:8080/"
        },
        "id": "AZRQyNPC3aU7",
        "outputId": "40cf6359-0e04-488d-f667-60d2bdcd52b4"
      },
      "source": [
        "model.predict([1])"
      ],
      "execution_count": 25,
      "outputs": [
        {
          "output_type": "execute_result",
          "data": {
            "text/plain": [
              "array([[1.0016896]], dtype=float32)"
            ]
          },
          "metadata": {
            "tags": []
          },
          "execution_count": 25
        }
      ]
    },
    {
      "cell_type": "code",
      "metadata": {
        "colab": {
          "base_uri": "https://localhost:8080/"
        },
        "id": "KKx6Vv5D3dPU",
        "outputId": "a07e3949-f85c-4dd5-a2a8-864192dbba6e"
      },
      "source": [
        "# testPreds = model.predict(testFeatures).flatten() #array of all prediction values\n",
        "\n",
        "#for single values\n",
        "\n",
        "print(f'Prediction for input value 1: {model.predict([1])}')\n",
        "\n",
        "\n",
        "# for a list of values\n",
        "tempListforPreds = [1,2,3,4,5]\n",
        "print(f'''\n",
        "\n",
        "input List = {tempListforPreds}\n",
        "\n",
        "\n",
        "List of Predictions:\n",
        "{model.predict(tempListforPreds)}\n",
        "\n",
        "List of Predictions (flattened out):\n",
        "{model.predict(tempListforPreds).flatten()}\n",
        "''')"
      ],
      "execution_count": 26,
      "outputs": [
        {
          "output_type": "stream",
          "text": [
            "Prediction for input value 1: [[1.0016896]]\n",
            "\n",
            "\n",
            "input List = [1, 2, 3, 4, 5]\n",
            "\n",
            "\n",
            "List of Predictions:\n",
            "[[1.0016896]\n",
            " [2.0014162]\n",
            " [3.0011427]\n",
            " [4.0008693]\n",
            " [5.0005956]]\n",
            "\n",
            "List of Predictions (flattened out):\n",
            "[1.0016896 2.0014162 3.0011427 4.0008693 5.0005956]\n",
            "\n"
          ],
          "name": "stdout"
        }
      ]
    },
    {
      "cell_type": "code",
      "metadata": {
        "colab": {
          "base_uri": "https://localhost:8080/"
        },
        "id": "0Ek8Ar573fy1",
        "outputId": "a3293c24-799d-4017-d18f-631f2f825e38"
      },
      "source": [
        "print(testFeatures)"
      ],
      "execution_count": 27,
      "outputs": [
        {
          "output_type": "stream",
          "text": [
            "     G1\n",
            "9    14\n",
            "25    6\n",
            "28   11\n",
            "31   17\n",
            "32   17\n",
            "..   ..\n",
            "365  10\n",
            "367   7\n",
            "379  10\n",
            "381   7\n",
            "393  11\n",
            "\n",
            "[79 rows x 1 columns]\n"
          ],
          "name": "stdout"
        }
      ]
    },
    {
      "cell_type": "code",
      "metadata": {
        "id": "BQdEwDP03hlN"
      },
      "source": [
        "testPreds = model.predict(testFeatures).flatten() #array of all prediction values"
      ],
      "execution_count": 28,
      "outputs": []
    },
    {
      "cell_type": "code",
      "metadata": {
        "colab": {
          "base_uri": "https://localhost:8080/"
        },
        "id": "uMXSZejj3jTb",
        "outputId": "0c7acd95-8cdf-4026-9cee-15bade1403de"
      },
      "source": [
        "print(len(testPreds))\n",
        "print(testPreds)"
      ],
      "execution_count": 29,
      "outputs": [
        {
          "output_type": "stream",
          "text": [
            "79\n",
            "[13.998135   6.0003223 10.998955  16.997314  16.997314  11.998681\n",
            " 13.998135  18.996767  18.996767   7.9997754 13.998135  12.998407\n",
            "  7.9997754  7.000049   8.999501  12.998407  10.998955  15.997587\n",
            "  7.000049   9.999228  14.997861  12.998407  13.998135  15.997587\n",
            "  7.000049   7.000049   7.9997754  9.999228  11.998681   9.999228\n",
            " 11.998681  12.998407   9.999228   6.0003223  8.999501  11.998681\n",
            "  7.000049   7.9997754 13.998135   8.999501   8.999501   7.000049\n",
            " 11.998681   6.0003223 12.998407   7.000049   7.000049  10.998955\n",
            " 12.998407  16.997314  11.998681  14.997861   8.999501  11.998681\n",
            " 14.997861  11.998681  14.997861  11.998681  14.997861  10.998955\n",
            " 11.998681   7.9997754 15.997587   7.000049  15.997587  10.998955\n",
            " 15.997587  12.998407   7.9997754  7.9997754 11.998681  17.99704\n",
            " 12.998407  15.997587   9.999228   7.000049   9.999228   7.000049\n",
            " 10.998955 ]\n"
          ],
          "name": "stdout"
        }
      ]
    },
    {
      "cell_type": "code",
      "metadata": {
        "colab": {
          "base_uri": "https://localhost:8080/",
          "height": 361
        },
        "id": "quq_lpz23ki6",
        "outputId": "179a69a6-eaf5-4150-87e5-dbcaefd25d0b"
      },
      "source": [
        "# prediciton plot --> how well is your model predicting across the actual labels\n",
        "\n",
        "def predPlot(labels, predictions):\n",
        "  plt.scatter(labels, predictions)\n",
        "  plt.ylabel('Predictions')\n",
        "  plt.xlabel('True Value or Labels')\n",
        "  plt.axis('equal')\n",
        "  plt.axis('square')\n",
        "  plt.xlim([0, plt.xlim()[1]])\n",
        "  plt.ylim([0, plt.ylim()[1]])\n",
        "  plt.show()\n",
        "\n",
        "predPlot(testLabels, testPreds)"
      ],
      "execution_count": 30,
      "outputs": [
        {
          "output_type": "display_data",
          "data": {
            "image/png": "[encoded data removed]",
            "text/plain": [
              "<Figure size 576x396 with 1 Axes>"
            ]
          },
          "metadata": {
            "tags": []
          }
        }
      ]
    },
    {
      "cell_type": "code",
      "metadata": {
        "colab": {
          "base_uri": "https://localhost:8080/",
          "height": 361
        },
        "id": "Rc0GVYuM3mGK",
        "outputId": "cd22b7f5-6f07-4202-c871-7cc37207c026"
      },
      "source": [
        "#error plot --> gaussian distribution \n",
        "\n",
        "def errorPlot(preds, labels, counts):\n",
        "  errors = preds - labels\n",
        "  plt.hist(errors, counts)\n",
        "  plt.xlabel('Error')\n",
        "  plt.ylabel('Counts')\n",
        "  plt.show()\n",
        "\n",
        "errorPlot(testPreds, testLabels, numEpochs)"
      ],
      "execution_count": 31,
      "outputs": [
        {
          "output_type": "display_data",
          "data": {
            "image/png": "[encoded data removed]",
            "text/plain": [
              "<Figure size 576x396 with 1 Axes>"
            ]
          },
          "metadata": {
            "tags": []
          }
        }
      ]
    },
    {
      "cell_type": "markdown",
      "metadata": {
        "id": "EdbZ1aiy3qGS"
      },
      "source": [
        "Note:\n",
        "\n",
        "Validation loss val_loss is a metric that tells you how much deviation from the actual label can you expect in the predicted label\n",
        "\n",
        "To optimize your predicitons -->\n",
        "\n",
        "* Hyperparameter tuning --> numEpochs, optimizer, learning_rate, lossFunctions"
      ]
    }
  ]
}